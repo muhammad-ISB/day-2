{
  "nbformat": 4,
  "nbformat_minor": 0,
  "metadata": {
    "colab": {
      "provenance": []
    },
    "kernelspec": {
      "name": "python3",
      "display_name": "Python 3"
    },
    "language_info": {
      "name": "python"
    }
  },
  "cells": [
    {
      "cell_type": "markdown",
      "source": [
        "# Lambda\n",
        "-> 1 line ananymous function,  anonmymous becasue no name for that fnction"
      ],
      "metadata": {
        "id": "vFRxjYIFWOjG"
      }
    },
    {
      "cell_type": "code",
      "execution_count": 1,
      "metadata": {
        "colab": {
          "base_uri": "https://localhost:8080/"
        },
        "id": "wG58ubNGV7pj",
        "outputId": "dbd2c0b4-f1a6-4f5a-aecf-73153b78c680"
      },
      "outputs": [
        {
          "output_type": "stream",
          "name": "stdout",
          "text": [
            "2\n"
          ]
        }
      ],
      "source": [
        "add_1 = lambda x: x+1\n",
        "result = add_1(1)\n",
        "print(result)"
      ]
    },
    {
      "cell_type": "code",
      "source": [
        "add_xy = lambda x,y: x+y\n",
        "result = add_xy(1,2)\n",
        "print(result)"
      ],
      "metadata": {
        "colab": {
          "base_uri": "https://localhost:8080/"
        },
        "id": "3jMLEqd6WBvo",
        "outputId": "73ed573d-2e7f-4669-baf3-8553c89c095b"
      },
      "execution_count": 2,
      "outputs": [
        {
          "output_type": "stream",
          "name": "stdout",
          "text": [
            "3\n"
          ]
        }
      ]
    },
    {
      "cell_type": "code",
      "source": [
        "# without lambda\n",
        "def without_lambda(x,y):\n",
        "  return x+y\n",
        "result = without_lambda(1,2)\n",
        "print(result)"
      ],
      "metadata": {
        "colab": {
          "base_uri": "https://localhost:8080/"
        },
        "id": "bRhEyQSbWByE",
        "outputId": "28f007fe-9d67-423f-923b-5bc6aad5c583"
      },
      "execution_count": 3,
      "outputs": [
        {
          "output_type": "stream",
          "name": "stdout",
          "text": [
            "3\n"
          ]
        }
      ]
    },
    {
      "cell_type": "markdown",
      "source": [
        "# Map\n",
        "-> Take some list / iterable object and apply a function to every singe value inside of it and generate something new with that ccontaints the results"
      ],
      "metadata": {
        "id": "ekeR6-fDXE5l"
      }
    },
    {
      "cell_type": "code",
      "source": [
        "my_nums = [1,2,3,4,5]\n",
        "result = map(lambda x: x**2, my_nums)\n",
        "print(list(result))"
      ],
      "metadata": {
        "colab": {
          "base_uri": "https://localhost:8080/"
        },
        "id": "l7dr8-ewWB1C",
        "outputId": "a10603ec-2ed3-4414-ef02-75928fda261a"
      },
      "execution_count": 4,
      "outputs": [
        {
          "output_type": "stream",
          "name": "stdout",
          "text": [
            "[1, 4, 9, 16, 25]\n"
          ]
        }
      ]
    },
    {
      "cell_type": "code",
      "source": [
        "def square(c):\n",
        "  return c ** 2\n",
        "squares = list(map(square, my_nums))\n",
        "print(squares)"
      ],
      "metadata": {
        "colab": {
          "base_uri": "https://localhost:8080/"
        },
        "id": "4T7J87D5WB3y",
        "outputId": "fd3bc07a-854f-4180-8beb-1f7934599085"
      },
      "execution_count": 5,
      "outputs": [
        {
          "output_type": "stream",
          "name": "stdout",
          "text": [
            "[1, 4, 9, 16, 25]\n"
          ]
        }
      ]
    },
    {
      "cell_type": "markdown",
      "source": [
        "# Filter\n",
        "-> Apply function to every single value inside of list / interable object\n",
        "~ filter the obhect if true"
      ],
      "metadata": {
        "id": "Adi5FVz-ZaMv"
      }
    },
    {
      "cell_type": "code",
      "source": [
        "evens = list(filter(lambda x: x % 2 == 0, my_nums))\n",
        "print(evens)"
      ],
      "metadata": {
        "colab": {
          "base_uri": "https://localhost:8080/"
        },
        "id": "yxlSI5iEWB6v",
        "outputId": "0d4f5cb9-e924-464d-cd9f-88f0da7e7758"
      },
      "execution_count": 6,
      "outputs": [
        {
          "output_type": "stream",
          "name": "stdout",
          "text": [
            "[2, 4]\n"
          ]
        }
      ]
    },
    {
      "cell_type": "markdown",
      "source": [
        "# Sort\n",
        "-> some kind of key values to be sorted"
      ],
      "metadata": {
        "id": "rEdJcRpZZ5CX"
      }
    },
    {
      "cell_type": "code",
      "source": [
        "values = [(1, 'b', 'hello'), (2, 'a', 'world'), (3, 'c', 'bye')]\n",
        "\n",
        "sorted_values = sorted(values, key = lambda x: x[1])\n",
        "print(sorted_values)"
      ],
      "metadata": {
        "colab": {
          "base_uri": "https://localhost:8080/"
        },
        "id": "I8sMdSSmZ4mm",
        "outputId": "39b9afb0-a3eb-4f38-d2de-b9c4b50b4fd8"
      },
      "execution_count": 7,
      "outputs": [
        {
          "output_type": "stream",
          "name": "stdout",
          "text": [
            "[(2, 'a', 'world'), (1, 'b', 'hello'), (3, 'c', 'bye')]\n"
          ]
        }
      ]
    },
    {
      "cell_type": "code",
      "source": [
        "sorted_values = sorted(values, key = lambda x: x[0] + x[2])\n",
        "print(sorted_values)"
      ],
      "metadata": {
        "colab": {
          "base_uri": "https://localhost:8080/"
        },
        "id": "eJ6A9GAzWB9k",
        "outputId": "dc060888-2cf2-457f-f919-7db730aad183"
      },
      "execution_count": 8,
      "outputs": [
        {
          "output_type": "stream",
          "name": "stdout",
          "text": [
            "[(3, 'c', 'bye'), (1, 'b', 'hello'), (2, 'a', 'world')]\n"
          ]
        }
      ]
    },
    {
      "cell_type": "code",
      "source": [
        "sorted_values = sorted(values, key = lambda x: x[1] + x[2])\n",
        "print(sorted_values) # 2 conditions if same look for 2nd one"
      ],
      "metadata": {
        "colab": {
          "base_uri": "https://localhost:8080/"
        },
        "id": "Q2NYs7O_WCAM",
        "outputId": "da1c219f-eb10-49a3-8c29-db613c419393"
      },
      "execution_count": 10,
      "outputs": [
        {
          "output_type": "stream",
          "name": "stdout",
          "text": [
            "[(2, 'a', 'world'), (1, 'b', 'hello'), (3, 'c', 'bye')]\n"
          ]
        }
      ]
    },
    {
      "cell_type": "markdown",
      "source": [
        "# Functools\n",
        "## Reduce\n",
        "-> Its going to reduce down some kind of interable object to a single value\n"
      ],
      "metadata": {
        "id": "QOK17F7ybW1E"
      }
    },
    {
      "cell_type": "code",
      "source": [
        "from functools import reduce\n",
        "\n",
        "numbes = [1, 2, 3, 4, 5]"
      ],
      "metadata": {
        "id": "PSLXoYCeWCCo"
      },
      "execution_count": 11,
      "outputs": []
    },
    {
      "cell_type": "code",
      "source": [
        "# using reduce to sum the list without initializer\n",
        "# acc = accumulated value, by default acc value will be the first value in out list/iterable object\n",
        "sum_of_numbers = reduce(lambda acc, x:acc + x, numbes)\n",
        "print(sum_of_numbers)\n",
        "# n*(n+1)/2"
      ],
      "metadata": {
        "colab": {
          "base_uri": "https://localhost:8080/"
        },
        "id": "Q_Ihk9RxWCFN",
        "outputId": "90da1a8c-2a4f-4619-b1bc-b9fd688e1b41"
      },
      "execution_count": 12,
      "outputs": [
        {
          "output_type": "stream",
          "name": "stdout",
          "text": [
            "15\n"
          ]
        }
      ]
    },
    {
      "cell_type": "code",
      "source": [
        "# using reduce to find the maximum value\n",
        "# inline if statement\n",
        "max_value = reduce(lambda acc, x: acc if acc > x else x, numbes)\n",
        "print(max_value)"
      ],
      "metadata": {
        "colab": {
          "base_uri": "https://localhost:8080/"
        },
        "id": "VFuZfmBrWCH4",
        "outputId": "caacebb9-9850-4c0b-a635-c6e2b45eb00f"
      },
      "execution_count": 13,
      "outputs": [
        {
          "output_type": "stream",
          "name": "stdout",
          "text": [
            "5\n"
          ]
        }
      ]
    },
    {
      "cell_type": "markdown",
      "source": [
        "# messed up thing"
      ],
      "metadata": {
        "id": "sVRAMUqhdNwV"
      }
    },
    {
      "cell_type": "code",
      "source": [
        "fancy_comp = {x: (lambda x: x*x)(x) for x in range(5)}\n",
        "print(fancy_comp)"
      ],
      "metadata": {
        "colab": {
          "base_uri": "https://localhost:8080/"
        },
        "id": "dd4bXREiWCKz",
        "outputId": "4b834353-a007-4340-a6de-66a1b74a1669"
      },
      "execution_count": 14,
      "outputs": [
        {
          "output_type": "stream",
          "name": "stdout",
          "text": [
            "{0: 0, 1: 1, 2: 4, 3: 9, 4: 16}\n"
          ]
        }
      ]
    },
    {
      "cell_type": "code",
      "source": [],
      "metadata": {
        "id": "At4V203ZWCN0"
      },
      "execution_count": null,
      "outputs": []
    },
    {
      "cell_type": "code",
      "source": [],
      "metadata": {
        "id": "6JnIkdO7WCQs"
      },
      "execution_count": null,
      "outputs": []
    },
    {
      "cell_type": "code",
      "source": [],
      "metadata": {
        "id": "bOEZ5rlQWCTF"
      },
      "execution_count": null,
      "outputs": []
    },
    {
      "cell_type": "code",
      "source": [],
      "metadata": {
        "id": "dHh-TPpbWCWR"
      },
      "execution_count": null,
      "outputs": []
    }
  ]
}