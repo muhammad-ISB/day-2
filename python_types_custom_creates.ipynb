{
  "nbformat": 4,
  "nbformat_minor": 0,
  "metadata": {
    "colab": {
      "provenance": []
    },
    "kernelspec": {
      "name": "python3",
      "display_name": "Python 3"
    },
    "language_info": {
      "name": "python"
    }
  },
  "cells": [
    {
      "cell_type": "code",
      "execution_count": 1,
      "metadata": {
        "colab": {
          "base_uri": "https://localhost:8080/"
        },
        "id": "zQ9PERhrbJ9Q",
        "outputId": "a70534c4-a2e0-48f7-ee4e-659952e78be0"
      },
      "outputs": [
        {
          "output_type": "stream",
          "name": "stdout",
          "text": [
            "Hello\n"
          ]
        }
      ],
      "source": [
        "a: int = 'Hello'\n",
        "print(a)"
      ]
    },
    {
      "cell_type": "code",
      "source": [
        "a: int = 'Hello'\n",
        "print(type(a))"
      ],
      "metadata": {
        "colab": {
          "base_uri": "https://localhost:8080/"
        },
        "id": "LzCTCxSKbQ_d",
        "outputId": "e2acc607-4e36-41d0-b608-daa0d86e2fb1"
      },
      "execution_count": 2,
      "outputs": [
        {
          "output_type": "stream",
          "name": "stdout",
          "text": [
            "<class 'str'>\n"
          ]
        }
      ]
    },
    {
      "cell_type": "code",
      "source": [
        "# type called ZIp code ~ alias ->\n",
        "zipcode = int\n",
        "def print_zip_code(code: zipcode):\n",
        "    print(code)"
      ],
      "metadata": {
        "id": "TesFA5u5bY4y"
      },
      "execution_count": 4,
      "outputs": []
    },
    {
      "cell_type": "code",
      "source": [
        "print_zip_code(12345)"
      ],
      "metadata": {
        "colab": {
          "base_uri": "https://localhost:8080/"
        },
        "id": "JRwx6ANnbtS_",
        "outputId": "f2099fc0-483c-4429-b092-f6306faa54e0"
      },
      "execution_count": 5,
      "outputs": [
        {
          "output_type": "stream",
          "name": "stdout",
          "text": [
            "12345\n"
          ]
        }
      ]
    },
    {
      "cell_type": "code",
      "source": [
        "# distict type of zipcode\n",
        "\n",
        "from typing import NewType # allows a unique distict type\n",
        "\n",
        "zipcode = NewType('zipcode', int)\n",
        "\n",
        "def print_zip_code(code: zipcode):\n",
        "    print(code)\n",
        "print_zip_code(zipcode(12345))"
      ],
      "metadata": {
        "colab": {
          "base_uri": "https://localhost:8080/"
        },
        "id": "lkJsavp5b8Yx",
        "outputId": "6728ed09-5512-4b8c-e8b6-a59281fe3798"
      },
      "execution_count": 7,
      "outputs": [
        {
          "output_type": "stream",
          "name": "stdout",
          "text": [
            "12345\n"
          ]
        }
      ]
    },
    {
      "cell_type": "code",
      "source": [],
      "metadata": {
        "id": "s5BhVOBeb8bn"
      },
      "execution_count": null,
      "outputs": []
    },
    {
      "cell_type": "code",
      "source": [
        "from typing import TypeVar\n",
        "\n",
        "T = TypeVar('T')\n",
        "\n",
        "def add_zip_cods( code1: T, code2:T):\n",
        "  return code1 + code2"
      ],
      "metadata": {
        "id": "TsJTMoV1b8e0"
      },
      "execution_count": 9,
      "outputs": []
    },
    {
      "cell_type": "code",
      "source": [
        "print(add_zip_cods(12345, 67890))"
      ],
      "metadata": {
        "colab": {
          "base_uri": "https://localhost:8080/"
        },
        "id": "d5guvFd5b8iH",
        "outputId": "04738a35-0413-4418-c779-897aae6365ab"
      },
      "execution_count": 11,
      "outputs": [
        {
          "output_type": "stream",
          "name": "stdout",
          "text": [
            "80235\n"
          ]
        }
      ]
    },
    {
      "cell_type": "code",
      "source": [
        "print(add_zip_cods(\"12345\", \"67890\"))"
      ],
      "metadata": {
        "colab": {
          "base_uri": "https://localhost:8080/"
        },
        "id": "Xctnjq3ib5sw",
        "outputId": "9389ae9e-717e-4896-b8ad-c89be11b8fe3"
      },
      "execution_count": 12,
      "outputs": [
        {
          "output_type": "stream",
          "name": "stdout",
          "text": [
            "1234567890\n"
          ]
        }
      ]
    },
    {
      "cell_type": "code",
      "source": [],
      "metadata": {
        "id": "DZjuY3haeaQE"
      },
      "execution_count": null,
      "outputs": []
    }
  ]
}