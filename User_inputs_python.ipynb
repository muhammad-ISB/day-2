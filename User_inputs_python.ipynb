{
  "nbformat": 4,
  "nbformat_minor": 0,
  "metadata": {
    "colab": {
      "provenance": []
    },
    "kernelspec": {
      "name": "python3",
      "display_name": "Python 3"
    },
    "language_info": {
      "name": "python"
    }
  },
  "cells": [
    {
      "cell_type": "code",
      "execution_count": 1,
      "metadata": {
        "colab": {
          "base_uri": "https://localhost:8080/"
        },
        "id": "6Qbb_Jxbf7vk",
        "outputId": "bf97ec27-cd00-4ac8-e942-46016a2bea88"
      },
      "outputs": [
        {
          "output_type": "stream",
          "name": "stdout",
          "text": [
            "Enter your name: Ashraf\n",
            "Hello, Ashraf! Baisci input practice\n"
          ]
        }
      ],
      "source": [
        "# basic\n",
        "\n",
        "runner = input('Enter your name: ')\n",
        "print(f'Hello, {runner}! Baisci input practice')"
      ]
    },
    {
      "cell_type": "code",
      "source": [
        "# cast as an integer\n",
        "\n",
        "miles = int(input(f' enter the digits natural/whole numbers only : '))"
      ],
      "metadata": {
        "colab": {
          "base_uri": "https://localhost:8080/"
        },
        "id": "-H3JRgDVgADE",
        "outputId": "41548d1a-73c3-474f-9318-4963a231acd3"
      },
      "execution_count": 3,
      "outputs": [
        {
          "name": "stdout",
          "output_type": "stream",
          "text": [
            " enter the digits natural/whole numbers only : 12\n"
          ]
        }
      ]
    },
    {
      "cell_type": "code",
      "source": [
        "km = miles * 1.60934\n",
        "\n",
        "print(f\"the distance {miles} in miles is {km} km\")"
      ],
      "metadata": {
        "colab": {
          "base_uri": "https://localhost:8080/"
        },
        "id": "4Lrqi9sCgAFY",
        "outputId": "9eb8a823-11ba-435e-d5e2-1a525e3bb424"
      },
      "execution_count": 4,
      "outputs": [
        {
          "output_type": "stream",
          "name": "stdout",
          "text": [
            "the distance 12 in miles is 19.31208 km\n"
          ]
        }
      ]
    },
    {
      "cell_type": "code",
      "source": [
        "# casting as a float with user input\n",
        "\n",
        "miles = input(f' enter the digits or numbers only : ')"
      ],
      "metadata": {
        "colab": {
          "base_uri": "https://localhost:8080/"
        },
        "id": "4e5b1v-LgAIm",
        "outputId": "d264fd99-3a46-4ff6-dc97-248bf5cc6b32"
      },
      "execution_count": 5,
      "outputs": [
        {
          "name": "stdout",
          "output_type": "stream",
          "text": [
            " enter the digits or numbers only : 12.1\n"
          ]
        }
      ]
    },
    {
      "cell_type": "code",
      "source": [
        "fidtance = float(miles)\n",
        "print(f'you can do {fidtance} today if required')"
      ],
      "metadata": {
        "colab": {
          "base_uri": "https://localhost:8080/"
        },
        "id": "l0dUy8L7gALC",
        "outputId": "680483f5-4643-44e5-9565-6bda3991effc"
      },
      "execution_count": 6,
      "outputs": [
        {
          "output_type": "stream",
          "name": "stdout",
          "text": [
            "you can do 12.1 today if required\n"
          ]
        }
      ]
    },
    {
      "cell_type": "code",
      "source": [
        "total_dist = fidtance + 5\n",
        "print(f'your total distance is {total_dist}')"
      ],
      "metadata": {
        "colab": {
          "base_uri": "https://localhost:8080/"
        },
        "id": "-XBxMTLlgANn",
        "outputId": "aa880ffc-8f54-4b28-bffb-bce1bf4b3ed2"
      },
      "execution_count": 7,
      "outputs": [
        {
          "output_type": "stream",
          "name": "stdout",
          "text": [
            "your total distance is 17.1\n"
          ]
        }
      ]
    },
    {
      "cell_type": "code",
      "source": [
        "miles = input(f' enter the digits or numbers only : ')\n",
        "total_dist = miles + 5\n",
        "print(f'your total distance is {total_dist}')"
      ],
      "metadata": {
        "colab": {
          "base_uri": "https://localhost:8080/",
          "height": 193
        },
        "id": "-AHUfUJZgAQQ",
        "outputId": "8210d4f9-e367-40a0-8313-2b546ce81c2d"
      },
      "execution_count": 8,
      "outputs": [
        {
          "name": "stdout",
          "output_type": "stream",
          "text": [
            " enter the digits or numbers only : 10\n"
          ]
        },
        {
          "output_type": "error",
          "ename": "TypeError",
          "evalue": "can only concatenate str (not \"int\") to str",
          "traceback": [
            "\u001b[0;31m---------------------------------------------------------------------------\u001b[0m",
            "\u001b[0;31mTypeError\u001b[0m                                 Traceback (most recent call last)",
            "\u001b[0;32m<ipython-input-8-4df8912fbe59>\u001b[0m in \u001b[0;36m<cell line: 2>\u001b[0;34m()\u001b[0m\n\u001b[1;32m      1\u001b[0m \u001b[0mmiles\u001b[0m \u001b[0;34m=\u001b[0m \u001b[0minput\u001b[0m\u001b[0;34m(\u001b[0m\u001b[0;34mf' enter the digits or numbers only : '\u001b[0m\u001b[0;34m)\u001b[0m\u001b[0;34m\u001b[0m\u001b[0;34m\u001b[0m\u001b[0m\n\u001b[0;32m----> 2\u001b[0;31m \u001b[0mtotal_dist\u001b[0m \u001b[0;34m=\u001b[0m \u001b[0mmiles\u001b[0m \u001b[0;34m+\u001b[0m \u001b[0;36m5\u001b[0m\u001b[0;34m\u001b[0m\u001b[0;34m\u001b[0m\u001b[0m\n\u001b[0m\u001b[1;32m      3\u001b[0m \u001b[0mprint\u001b[0m\u001b[0;34m(\u001b[0m\u001b[0;34mf'your total distance is {total_dist}'\u001b[0m\u001b[0;34m)\u001b[0m\u001b[0;34m\u001b[0m\u001b[0;34m\u001b[0m\u001b[0m\n",
            "\u001b[0;31mTypeError\u001b[0m: can only concatenate str (not \"int\") to str"
          ]
        }
      ]
    },
    {
      "cell_type": "code",
      "source": [
        "# eval - to do the mathematical functions\n",
        "\n",
        "miles_ran = eval(input('add in the miles walked this week: '))\n",
        "miles_ran"
      ],
      "metadata": {
        "colab": {
          "base_uri": "https://localhost:8080/"
        },
        "id": "-p13xEGggASh",
        "outputId": "d3a289cb-13ec-4d4d-d353-d5c361be75de"
      },
      "execution_count": 11,
      "outputs": [
        {
          "name": "stdout",
          "output_type": "stream",
          "text": [
            "add in the miles walked this week: 5+7+9-5-7\n"
          ]
        },
        {
          "output_type": "execute_result",
          "data": {
            "text/plain": [
              "9"
            ]
          },
          "metadata": {},
          "execution_count": 11
        }
      ]
    },
    {
      "cell_type": "code",
      "source": [
        "# while loop\n",
        "\n",
        "total_dist = 0.0\n",
        "while True:\n",
        "  dist_str = input('Enter the distance walked this week: ')\n",
        "  dist = float(dist_str)\n",
        "\n",
        "  total_dist += dist\n",
        "  print(f'you ran {dist} so far and the total distance for this week is {total_dist}')\n",
        "\n",
        "  continue_walk = input('dp you want to add another walk> y/n: ')\n",
        "\n",
        "  if continue_walk.lower() != 'y':\n",
        "    break"
      ],
      "metadata": {
        "colab": {
          "base_uri": "https://localhost:8080/"
        },
        "id": "aed_PHdTgAUo",
        "outputId": "5ee6f576-16bf-4324-f44f-e377b004aacd"
      },
      "execution_count": 14,
      "outputs": [
        {
          "name": "stdout",
          "output_type": "stream",
          "text": [
            "Enter the distance walked this week: 6\n",
            "you ran 6.0 so far and the total distance for this week is 6.0\n",
            "dp you want to add another walk> y/n: y\n",
            "Enter the distance walked this week: 3\n",
            "you ran 3.0 so far and the total distance for this week is 9.0\n",
            "dp you want to add another walk> y/n: n\n"
          ]
        }
      ]
    },
    {
      "cell_type": "code",
      "source": [
        "print(f\"great jon! you walked a {total_dist} miles this week\")"
      ],
      "metadata": {
        "colab": {
          "base_uri": "https://localhost:8080/"
        },
        "id": "Qc61BNZAgAWF",
        "outputId": "42ccb3bf-cf55-4284-d964-209ac5213f3a"
      },
      "execution_count": 15,
      "outputs": [
        {
          "output_type": "stream",
          "name": "stdout",
          "text": [
            "great jon! you walked a 9.0 miles this week\n"
          ]
        }
      ]
    },
    {
      "cell_type": "code",
      "source": [],
      "metadata": {
        "id": "1in6IR9dgAYh"
      },
      "execution_count": null,
      "outputs": []
    },
    {
      "cell_type": "code",
      "source": [],
      "metadata": {
        "id": "xAbcS-kygAbB"
      },
      "execution_count": null,
      "outputs": []
    },
    {
      "cell_type": "code",
      "source": [],
      "metadata": {
        "id": "MGkRYjt7gAds"
      },
      "execution_count": null,
      "outputs": []
    },
    {
      "cell_type": "code",
      "source": [],
      "metadata": {
        "id": "VMtjHfI5gAgQ"
      },
      "execution_count": null,
      "outputs": []
    },
    {
      "cell_type": "code",
      "source": [],
      "metadata": {
        "id": "DLTXCDgHgAi9"
      },
      "execution_count": null,
      "outputs": []
    },
    {
      "cell_type": "code",
      "source": [],
      "metadata": {
        "id": "QPczGph_gAlX"
      },
      "execution_count": null,
      "outputs": []
    },
    {
      "cell_type": "code",
      "source": [],
      "metadata": {
        "id": "YMKF1aj3gAoS"
      },
      "execution_count": null,
      "outputs": []
    },
    {
      "cell_type": "code",
      "source": [],
      "metadata": {
        "id": "rF-Dt-17gArM"
      },
      "execution_count": null,
      "outputs": []
    },
    {
      "cell_type": "code",
      "source": [],
      "metadata": {
        "id": "pPlmb0W8gAtO"
      },
      "execution_count": null,
      "outputs": []
    },
    {
      "cell_type": "code",
      "source": [],
      "metadata": {
        "id": "DHc8VJp5gAvN"
      },
      "execution_count": null,
      "outputs": []
    }
  ]
}