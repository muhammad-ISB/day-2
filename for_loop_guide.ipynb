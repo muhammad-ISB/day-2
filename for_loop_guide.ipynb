{
  "nbformat": 4,
  "nbformat_minor": 0,
  "metadata": {
    "colab": {
      "provenance": []
    },
    "kernelspec": {
      "name": "python3",
      "display_name": "Python 3"
    },
    "language_info": {
      "name": "python"
    }
  },
  "cells": [
    {
      "cell_type": "code",
      "execution_count": 1,
      "metadata": {
        "colab": {
          "base_uri": "https://localhost:8080/"
        },
        "id": "9wUsoGcw4pcQ",
        "outputId": "c1d1680c-a60f-41f0-fe0d-7f13e406c008"
      },
      "outputs": [
        {
          "output_type": "stream",
          "name": "stdout",
          "text": [
            "Data Science\n",
            "Data Science\n",
            "Data Science\n",
            "Data Science\n"
          ]
        }
      ],
      "source": [
        "for x in range(4):\n",
        "  print('Data Science')"
      ]
    },
    {
      "cell_type": "code",
      "source": [
        "list(range(4))"
      ],
      "metadata": {
        "colab": {
          "base_uri": "https://localhost:8080/"
        },
        "id": "Kw3oNeNj41rB",
        "outputId": "170603b7-491c-441d-e5ee-511ee5b73412"
      },
      "execution_count": 2,
      "outputs": [
        {
          "output_type": "execute_result",
          "data": {
            "text/plain": [
              "[0, 1, 2, 3]"
            ]
          },
          "metadata": {},
          "execution_count": 2
        }
      ]
    },
    {
      "cell_type": "code",
      "source": [
        "for x in range(4):\n",
        "  print('Data Science', x)"
      ],
      "metadata": {
        "colab": {
          "base_uri": "https://localhost:8080/"
        },
        "id": "QbZnpG6q47pU",
        "outputId": "4203acb3-3464-42f1-fd89-01b80a410642"
      },
      "execution_count": 3,
      "outputs": [
        {
          "output_type": "stream",
          "name": "stdout",
          "text": [
            "Data Science 0\n",
            "Data Science 1\n",
            "Data Science 2\n",
            "Data Science 3\n"
          ]
        }
      ]
    },
    {
      "cell_type": "code",
      "source": [
        "# range between two numbers\n",
        "\n",
        "for x in range(3,5):\n",
        "  print('Data science', x)"
      ],
      "metadata": {
        "colab": {
          "base_uri": "https://localhost:8080/"
        },
        "id": "26deGHu_5BEV",
        "outputId": "4f0cc282-3065-4293-c639-dfad83c23b2e"
      },
      "execution_count": 4,
      "outputs": [
        {
          "output_type": "stream",
          "name": "stdout",
          "text": [
            "Data science 3\n",
            "Data science 4\n"
          ]
        }
      ]
    },
    {
      "cell_type": "code",
      "source": [
        "# step\n",
        "\n",
        "for x in range(2,10):\n",
        "  print('Data science', x)"
      ],
      "metadata": {
        "colab": {
          "base_uri": "https://localhost:8080/"
        },
        "id": "VhMqFJ-85WUZ",
        "outputId": "829a03d3-2129-4c59-d093-a01c51bfe973"
      },
      "execution_count": 5,
      "outputs": [
        {
          "output_type": "stream",
          "name": "stdout",
          "text": [
            "Data science 2\n",
            "Data science 3\n",
            "Data science 4\n",
            "Data science 5\n",
            "Data science 6\n",
            "Data science 7\n",
            "Data science 8\n",
            "Data science 9\n"
          ]
        }
      ]
    },
    {
      "cell_type": "code",
      "source": [
        "for x in range(2,10,2):\n",
        "  print('Data science', x)"
      ],
      "metadata": {
        "colab": {
          "base_uri": "https://localhost:8080/"
        },
        "id": "Saq9igQC5dQm",
        "outputId": "c1534f79-dfc3-4c6b-ede7-baadde7e6115"
      },
      "execution_count": 6,
      "outputs": [
        {
          "output_type": "stream",
          "name": "stdout",
          "text": [
            "Data science 2\n",
            "Data science 4\n",
            "Data science 6\n",
            "Data science 8\n"
          ]
        }
      ]
    },
    {
      "cell_type": "code",
      "source": [
        "for x in range(2,10,4):\n",
        "  print('Data science', x)"
      ],
      "metadata": {
        "colab": {
          "base_uri": "https://localhost:8080/"
        },
        "id": "sUl2K0l65dTW",
        "outputId": "ca3c2202-5e26-4199-834d-d3af76b418c7"
      },
      "execution_count": 8,
      "outputs": [
        {
          "output_type": "stream",
          "name": "stdout",
          "text": [
            "Data science 2\n",
            "Data science 6\n"
          ]
        }
      ]
    },
    {
      "cell_type": "code",
      "source": [
        "# backwards\n",
        "\n",
        "for x in range(4,-1, -1):\n",
        "  print('Data science', x)"
      ],
      "metadata": {
        "colab": {
          "base_uri": "https://localhost:8080/"
        },
        "id": "4MSVvpp55dWU",
        "outputId": "7a3b7819-d3a0-455e-ab20-3ec96a12c09a"
      },
      "execution_count": 9,
      "outputs": [
        {
          "output_type": "stream",
          "name": "stdout",
          "text": [
            "Data science 4\n",
            "Data science 3\n",
            "Data science 2\n",
            "Data science 1\n",
            "Data science 0\n"
          ]
        }
      ]
    },
    {
      "cell_type": "code",
      "source": [
        "for x in range(4,-1, -2):\n",
        "  print('Data science', x)"
      ],
      "metadata": {
        "colab": {
          "base_uri": "https://localhost:8080/"
        },
        "id": "bP-OEN225dZN",
        "outputId": "8f923c0d-8953-4d92-dcda-74840fda1f12"
      },
      "execution_count": 10,
      "outputs": [
        {
          "output_type": "stream",
          "name": "stdout",
          "text": [
            "Data science 4\n",
            "Data science 2\n",
            "Data science 0\n"
          ]
        }
      ]
    },
    {
      "cell_type": "code",
      "source": [
        "for x in reversed(range(4)):\n",
        "  print('Data Science',x)"
      ],
      "metadata": {
        "colab": {
          "base_uri": "https://localhost:8080/"
        },
        "id": "1Hgxliet5dbw",
        "outputId": "62b9d14e-dcfa-4848-90c7-407d44c1c77c"
      },
      "execution_count": 12,
      "outputs": [
        {
          "output_type": "stream",
          "name": "stdout",
          "text": [
            "Data Science 3\n",
            "Data Science 2\n",
            "Data Science 1\n",
            "Data Science 0\n"
          ]
        }
      ]
    },
    {
      "cell_type": "code",
      "source": [
        "# Break and continue\n",
        "\n",
        "for i in range(2,10):\n",
        "  if i * 5 > 10:\n",
        "    break\n",
        "  print(i)"
      ],
      "metadata": {
        "colab": {
          "base_uri": "https://localhost:8080/"
        },
        "id": "0fXBVdOn5deN",
        "outputId": "2daad134-daa7-4761-8c4a-1da399ce6f79"
      },
      "execution_count": 13,
      "outputs": [
        {
          "output_type": "stream",
          "name": "stdout",
          "text": [
            "2\n"
          ]
        }
      ]
    },
    {
      "cell_type": "code",
      "source": [
        "for i in range(2,10):\n",
        "  if i * 5 > 20:\n",
        "    break\n",
        "  print(i)"
      ],
      "metadata": {
        "colab": {
          "base_uri": "https://localhost:8080/"
        },
        "id": "2bcQjs7G5dhG",
        "outputId": "f3f71e31-ddbb-4858-adfe-87ee8261a792"
      },
      "execution_count": 14,
      "outputs": [
        {
          "output_type": "stream",
          "name": "stdout",
          "text": [
            "2\n",
            "3\n",
            "4\n"
          ]
        }
      ]
    },
    {
      "cell_type": "code",
      "source": [
        "for i in range(2,10):\n",
        "  if i * 5 == 20:\n",
        "    continue\n",
        "  print(i)\n",
        "\n",
        "  # 4 is equal to 20"
      ],
      "metadata": {
        "colab": {
          "base_uri": "https://localhost:8080/"
        },
        "id": "ryCAJCGc5djk",
        "outputId": "4a73a59a-fcc3-44ca-ea9e-a93ebc85de0f"
      },
      "execution_count": 15,
      "outputs": [
        {
          "output_type": "stream",
          "name": "stdout",
          "text": [
            "2\n",
            "3\n",
            "5\n",
            "6\n",
            "7\n",
            "8\n",
            "9\n"
          ]
        }
      ]
    },
    {
      "cell_type": "code",
      "source": [
        "for x in 'Sci-kit learn':\n",
        "  print(x)"
      ],
      "metadata": {
        "colab": {
          "base_uri": "https://localhost:8080/"
        },
        "id": "ZnxeT1An5dnd",
        "outputId": "b5988531-9aa9-46e8-8694-dbf22574b3c7"
      },
      "execution_count": 17,
      "outputs": [
        {
          "output_type": "stream",
          "name": "stdout",
          "text": [
            "S\n",
            "c\n",
            "i\n",
            "-\n",
            "k\n",
            "i\n",
            "t\n",
            " \n",
            "l\n",
            "e\n",
            "a\n",
            "r\n",
            "n\n"
          ]
        }
      ]
    },
    {
      "cell_type": "code",
      "source": [
        "for x in 'Sci-kit learn':\n",
        "  print(x, end = '|')"
      ],
      "metadata": {
        "colab": {
          "base_uri": "https://localhost:8080/"
        },
        "id": "b30q-AXd5dq1",
        "outputId": "03236854-5f32-4721-a89a-77276378bb9f"
      },
      "execution_count": 18,
      "outputs": [
        {
          "output_type": "stream",
          "name": "stdout",
          "text": [
            "S|c|i|-|k|i|t| |l|e|a|r|n|"
          ]
        }
      ]
    },
    {
      "cell_type": "code",
      "source": [
        "for x in ['train test split', 'regression', 'classification', 'random forest']:\n",
        "  print(x)"
      ],
      "metadata": {
        "colab": {
          "base_uri": "https://localhost:8080/"
        },
        "id": "asVt_bro5dvt",
        "outputId": "efe4370d-5641-48c1-9f88-07ecbaa134e1"
      },
      "execution_count": 19,
      "outputs": [
        {
          "output_type": "stream",
          "name": "stdout",
          "text": [
            "train test split\n",
            "regression\n",
            "classification\n",
            "random forest\n"
          ]
        }
      ]
    },
    {
      "cell_type": "code",
      "source": [
        "for term in ['train test split', 'regression', 'classification', 'random forest']:\n",
        "  print(term)"
      ],
      "metadata": {
        "colab": {
          "base_uri": "https://localhost:8080/"
        },
        "id": "WVlIlIoc7aMG",
        "outputId": "261d85f4-9792-4b6b-85b8-83d32c554fba"
      },
      "execution_count": 23,
      "outputs": [
        {
          "output_type": "stream",
          "name": "stdout",
          "text": [
            "train test split\n",
            "regression\n",
            "classification\n",
            "random forest\n"
          ]
        }
      ]
    },
    {
      "cell_type": "code",
      "source": [
        "baseball_teams = ['Rays', 'Yankees', 'Red Sox']\n",
        "\n",
        "for team in baseball_teams:\n",
        "  print(team)"
      ],
      "metadata": {
        "colab": {
          "base_uri": "https://localhost:8080/"
        },
        "id": "pXGXbskJ5dyW",
        "outputId": "b446945f-a08a-4a93-a4ca-b2b07d19aa8b"
      },
      "execution_count": 24,
      "outputs": [
        {
          "output_type": "stream",
          "name": "stdout",
          "text": [
            "Rays\n",
            "Yankees\n",
            "Red Sox\n"
          ]
        }
      ]
    },
    {
      "cell_type": "code",
      "source": [
        "# Enumerate\n",
        "\n",
        "\n",
        "for index, team in enumerate(baseball_teams):\n",
        "  print(index, team)"
      ],
      "metadata": {
        "colab": {
          "base_uri": "https://localhost:8080/"
        },
        "id": "FIN1AoNu7Q3p",
        "outputId": "e346809f-fb82-4187-ec9f-14702b87f5c8"
      },
      "execution_count": 26,
      "outputs": [
        {
          "output_type": "stream",
          "name": "stdout",
          "text": [
            "0 Rays\n",
            "1 Yankees\n",
            "2 Red Sox\n"
          ]
        }
      ]
    },
    {
      "cell_type": "code",
      "source": [
        "baseball_playe = {'name': 'Nolan Ryan', 'team': 'Astros', 'position': 'pitcher', 'number': 34 }\n",
        "\n",
        "for data in baseball_playe.values():\n",
        "  print(data)"
      ],
      "metadata": {
        "colab": {
          "base_uri": "https://localhost:8080/"
        },
        "id": "4TJuffjX7kkV",
        "outputId": "45e60623-7283-4a36-b29d-56b5e45756c9"
      },
      "execution_count": 27,
      "outputs": [
        {
          "output_type": "stream",
          "name": "stdout",
          "text": [
            "Nolan Ryan\n",
            "Astros\n",
            "pitcher\n",
            "34\n"
          ]
        }
      ]
    },
    {
      "cell_type": "code",
      "source": [
        "for key, data in baseball_playe.items():\n",
        "  print(key, '-', data)"
      ],
      "metadata": {
        "colab": {
          "base_uri": "https://localhost:8080/"
        },
        "id": "TT1trcHy8igs",
        "outputId": "b525204e-7741-4ffd-ad84-6048e40db1ba"
      },
      "execution_count": 28,
      "outputs": [
        {
          "output_type": "stream",
          "name": "stdout",
          "text": [
            "name - Nolan Ryan\n",
            "team - Astros\n",
            "position - pitcher\n",
            "number - 34\n"
          ]
        }
      ]
    },
    {
      "cell_type": "code",
      "source": [
        "# Nested loops\n",
        "\n",
        "for x in range(7):\n",
        "  for y in range(9):\n",
        "    print(x, y)"
      ],
      "metadata": {
        "colab": {
          "base_uri": "https://localhost:8080/"
        },
        "id": "8dJDXs_88shx",
        "outputId": "4f59a4f6-145e-4784-e958-96331d959477"
      },
      "execution_count": 29,
      "outputs": [
        {
          "output_type": "stream",
          "name": "stdout",
          "text": [
            "0 0\n",
            "0 1\n",
            "0 2\n",
            "0 3\n",
            "0 4\n",
            "0 5\n",
            "0 6\n",
            "0 7\n",
            "0 8\n",
            "1 0\n",
            "1 1\n",
            "1 2\n",
            "1 3\n",
            "1 4\n",
            "1 5\n",
            "1 6\n",
            "1 7\n",
            "1 8\n",
            "2 0\n",
            "2 1\n",
            "2 2\n",
            "2 3\n",
            "2 4\n",
            "2 5\n",
            "2 6\n",
            "2 7\n",
            "2 8\n",
            "3 0\n",
            "3 1\n",
            "3 2\n",
            "3 3\n",
            "3 4\n",
            "3 5\n",
            "3 6\n",
            "3 7\n",
            "3 8\n",
            "4 0\n",
            "4 1\n",
            "4 2\n",
            "4 3\n",
            "4 4\n",
            "4 5\n",
            "4 6\n",
            "4 7\n",
            "4 8\n",
            "5 0\n",
            "5 1\n",
            "5 2\n",
            "5 3\n",
            "5 4\n",
            "5 5\n",
            "5 6\n",
            "5 7\n",
            "5 8\n",
            "6 0\n",
            "6 1\n",
            "6 2\n",
            "6 3\n",
            "6 4\n",
            "6 5\n",
            "6 6\n",
            "6 7\n",
            "6 8\n"
          ]
        }
      ]
    },
    {
      "cell_type": "code",
      "source": [
        " runners = ['kipchoge', 'owens', 'nurmi']\n",
        " distances = ['5k', '10k', 'Marathon']\n",
        "\n",
        "\n",
        " for runner in runners:\n",
        "  for distance in distances:\n",
        "    print(runner + ':' + distance)"
      ],
      "metadata": {
        "colab": {
          "base_uri": "https://localhost:8080/"
        },
        "id": "3S5viaQ_85Vm",
        "outputId": "e651ce12-b63b-4941-f6b6-19fcd833c53d"
      },
      "execution_count": 30,
      "outputs": [
        {
          "output_type": "stream",
          "name": "stdout",
          "text": [
            "kipchoge:5k\n",
            "kipchoge:10k\n",
            "kipchoge:Marathon\n",
            "owens:5k\n",
            "owens:10k\n",
            "owens:Marathon\n",
            "nurmi:5k\n",
            "nurmi:10k\n",
            "nurmi:Marathon\n"
          ]
        }
      ]
    },
    {
      "cell_type": "code",
      "source": [
        "# using loops to sum\n",
        "\n",
        "sum = 100\n",
        "\n",
        "for x in range(5):\n",
        "  sum = sum + x*x\n",
        "  print(sum)"
      ],
      "metadata": {
        "colab": {
          "base_uri": "https://localhost:8080/"
        },
        "id": "zIzxEmX29LrS",
        "outputId": "8ae94512-6e7d-4392-ac7e-16c6b1f9925d"
      },
      "execution_count": 31,
      "outputs": [
        {
          "output_type": "stream",
          "name": "stdout",
          "text": [
            "100\n",
            "101\n",
            "105\n",
            "114\n",
            "130\n"
          ]
        }
      ]
    },
    {
      "cell_type": "code",
      "source": [
        "list = [22, 55, 88]\n",
        "sum = 50\n",
        "\n",
        "for number in list:\n",
        "  sum = sum + number\n",
        "  print(sum)"
      ],
      "metadata": {
        "colab": {
          "base_uri": "https://localhost:8080/"
        },
        "id": "pBUJ6VRF9LuD",
        "outputId": "d96ee396-037b-4131-8c9d-e962f93ce0d0"
      },
      "execution_count": 32,
      "outputs": [
        {
          "output_type": "stream",
          "name": "stdout",
          "text": [
            "72\n",
            "127\n",
            "215\n"
          ]
        }
      ]
    },
    {
      "cell_type": "code",
      "source": [],
      "metadata": {
        "id": "di9H8RDW9Lwu"
      },
      "execution_count": null,
      "outputs": []
    },
    {
      "cell_type": "code",
      "source": [],
      "metadata": {
        "id": "SaFrKJAQ9L0G"
      },
      "execution_count": null,
      "outputs": []
    }
  ]
}