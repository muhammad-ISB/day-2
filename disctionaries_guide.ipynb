{
  "nbformat": 4,
  "nbformat_minor": 0,
  "metadata": {
    "colab": {
      "provenance": []
    },
    "kernelspec": {
      "name": "python3",
      "display_name": "Python 3"
    },
    "language_info": {
      "name": "python"
    }
  },
  "cells": [
    {
      "cell_type": "code",
      "execution_count": 1,
      "metadata": {
        "colab": {
          "base_uri": "https://localhost:8080/"
        },
        "id": "A3rn73WnPb0A",
        "outputId": "b7625022-49ed-425b-8f4b-4b57c0e9ace8"
      },
      "outputs": [
        {
          "output_type": "execute_result",
          "data": {
            "text/plain": [
              "{'Key': 'Value'}"
            ]
          },
          "metadata": {},
          "execution_count": 1
        }
      ],
      "source": [
        "# linked\n",
        "\n",
        "{'Key': 'Value'}\n",
        "# key value relationship"
      ]
    },
    {
      "cell_type": "code",
      "source": [
        "{'Key': 'Value', 'Key2': 'Value2'} # key names are distict"
      ],
      "metadata": {
        "colab": {
          "base_uri": "https://localhost:8080/"
        },
        "id": "cAsvvOhDPhm-",
        "outputId": "37a6ac64-e0c5-47eb-fcff-85a6c7b31f17"
      },
      "execution_count": 2,
      "outputs": [
        {
          "output_type": "execute_result",
          "data": {
            "text/plain": [
              "{'Key': 'Value', 'Key2': 'Value2'}"
            ]
          },
          "metadata": {},
          "execution_count": 2
        }
      ]
    },
    {
      "cell_type": "code",
      "source": [
        "coder = {'name': 'ashraf', 'age': 26, 'language': ['python','SQL']}\n",
        "coder"
      ],
      "metadata": {
        "colab": {
          "base_uri": "https://localhost:8080/"
        },
        "id": "bvRQY3J9Phpq",
        "outputId": "a352379f-e7d6-4847-be07-a011ce56399d"
      },
      "execution_count": 4,
      "outputs": [
        {
          "output_type": "execute_result",
          "data": {
            "text/plain": [
              "{'name': 'ashraf', 'age': 26, 'language': ['python', 'SQL']}"
            ]
          },
          "metadata": {},
          "execution_count": 4
        }
      ]
    },
    {
      "cell_type": "code",
      "source": [
        "coder.keys()"
      ],
      "metadata": {
        "colab": {
          "base_uri": "https://localhost:8080/"
        },
        "id": "BPGjx6tEPhsk",
        "outputId": "dbc8275d-b14b-435f-eda2-a14e95aaa705"
      },
      "execution_count": 5,
      "outputs": [
        {
          "output_type": "execute_result",
          "data": {
            "text/plain": [
              "dict_keys(['name', 'age', 'language'])"
            ]
          },
          "metadata": {},
          "execution_count": 5
        }
      ]
    },
    {
      "cell_type": "code",
      "source": [
        "coder.values()"
      ],
      "metadata": {
        "colab": {
          "base_uri": "https://localhost:8080/"
        },
        "id": "r8-_NlTYPhvO",
        "outputId": "1595ce9a-4e4e-4b0f-a327-86a59655bb53"
      },
      "execution_count": 6,
      "outputs": [
        {
          "output_type": "execute_result",
          "data": {
            "text/plain": [
              "dict_values(['ashraf', 26, ['python', 'SQL']])"
            ]
          },
          "metadata": {},
          "execution_count": 6
        }
      ]
    },
    {
      "cell_type": "code",
      "source": [
        "coder.items()"
      ],
      "metadata": {
        "colab": {
          "base_uri": "https://localhost:8080/"
        },
        "id": "PWw1RdPjPhx_",
        "outputId": "43d5f222-9aed-4839-ce43-94cc21041e66"
      },
      "execution_count": 7,
      "outputs": [
        {
          "output_type": "execute_result",
          "data": {
            "text/plain": [
              "dict_items([('name', 'ashraf'), ('age', 26), ('language', ['python', 'SQL'])])"
            ]
          },
          "metadata": {},
          "execution_count": 7
        }
      ]
    },
    {
      "cell_type": "code",
      "source": [
        "# use for loops with dictionaries\n",
        "\n",
        "for data in coder.values():\n",
        "  print(data)"
      ],
      "metadata": {
        "colab": {
          "base_uri": "https://localhost:8080/"
        },
        "id": "8FuNJQAWPh0x",
        "outputId": "027269f8-8a62-44df-baca-04e5fb374abd"
      },
      "execution_count": 8,
      "outputs": [
        {
          "output_type": "stream",
          "name": "stdout",
          "text": [
            "ashraf\n",
            "26\n",
            "['python', 'SQL']\n"
          ]
        }
      ]
    },
    {
      "cell_type": "code",
      "source": [
        "for data in coder.keys():\n",
        "  print(data)"
      ],
      "metadata": {
        "colab": {
          "base_uri": "https://localhost:8080/"
        },
        "id": "gGgkxvS9Ph3w",
        "outputId": "770700d2-5a56-411e-ff02-ee27f5cb356f"
      },
      "execution_count": 9,
      "outputs": [
        {
          "output_type": "stream",
          "name": "stdout",
          "text": [
            "name\n",
            "age\n",
            "language\n"
          ]
        }
      ]
    },
    {
      "cell_type": "code",
      "source": [
        "for key, value in coder.items():\n",
        "  print(key, '-', value )"
      ],
      "metadata": {
        "colab": {
          "base_uri": "https://localhost:8080/"
        },
        "id": "AeVDpsrxPh6b",
        "outputId": "cc453c20-49fe-45bd-9665-640e752ab417"
      },
      "execution_count": 10,
      "outputs": [
        {
          "output_type": "stream",
          "name": "stdout",
          "text": [
            "name - ashraf\n",
            "age - 26\n",
            "language - ['python', 'SQL']\n"
          ]
        }
      ]
    },
    {
      "cell_type": "code",
      "source": [
        "# grab something"
      ],
      "metadata": {
        "id": "sm9NsS_pPh9L"
      },
      "execution_count": 11,
      "outputs": []
    },
    {
      "cell_type": "code",
      "source": [
        "#get something\n",
        "\n",
        "coder.get('name')"
      ],
      "metadata": {
        "colab": {
          "base_uri": "https://localhost:8080/",
          "height": 36
        },
        "id": "1T2ChUu6Qmu5",
        "outputId": "12ab6af0-a6d9-4465-fac5-50dfe38b49ee"
      },
      "execution_count": 12,
      "outputs": [
        {
          "output_type": "execute_result",
          "data": {
            "text/plain": [
              "'ashraf'"
            ],
            "application/vnd.google.colaboratory.intrinsic+json": {
              "type": "string"
            }
          },
          "metadata": {},
          "execution_count": 12
        }
      ]
    },
    {
      "cell_type": "code",
      "source": [
        "print(coder.get('company'))"
      ],
      "metadata": {
        "colab": {
          "base_uri": "https://localhost:8080/"
        },
        "id": "2t19T8_9Qmx8",
        "outputId": "ead1f678-a382-4038-c16f-cd117b79b68d"
      },
      "execution_count": 13,
      "outputs": [
        {
          "output_type": "stream",
          "name": "stdout",
          "text": [
            "None\n"
          ]
        }
      ]
    },
    {
      "cell_type": "code",
      "source": [
        "print(coder.get('company',' didnt metion yet'))"
      ],
      "metadata": {
        "colab": {
          "base_uri": "https://localhost:8080/"
        },
        "id": "UB4h9Fj-RF6m",
        "outputId": "0896ccf9-ce7a-4a10-c1af-fe2d7cdb250f"
      },
      "execution_count": 17,
      "outputs": [
        {
          "output_type": "stream",
          "name": "stdout",
          "text": [
            " didnt metion yet\n"
          ]
        }
      ]
    },
    {
      "cell_type": "code",
      "source": [],
      "metadata": {
        "id": "7kciJL8tRGBH"
      },
      "execution_count": null,
      "outputs": []
    },
    {
      "cell_type": "code",
      "source": [
        "coder['company']"
      ],
      "metadata": {
        "colab": {
          "base_uri": "https://localhost:8080/",
          "height": 141
        },
        "id": "MLLhiKEDQm0X",
        "outputId": "ac4e9e54-b237-4f49-a798-e1eedf5a9a88"
      },
      "execution_count": 14,
      "outputs": [
        {
          "output_type": "error",
          "ename": "KeyError",
          "evalue": "'company'",
          "traceback": [
            "\u001b[0;31m---------------------------------------------------------------------------\u001b[0m",
            "\u001b[0;31mKeyError\u001b[0m                                  Traceback (most recent call last)",
            "\u001b[0;32m<ipython-input-14-9b064db6aa3b>\u001b[0m in \u001b[0;36m<cell line: 1>\u001b[0;34m()\u001b[0m\n\u001b[0;32m----> 1\u001b[0;31m \u001b[0mcoder\u001b[0m\u001b[0;34m[\u001b[0m\u001b[0;34m'company'\u001b[0m\u001b[0;34m]\u001b[0m\u001b[0;34m\u001b[0m\u001b[0;34m\u001b[0m\u001b[0m\n\u001b[0m",
            "\u001b[0;31mKeyError\u001b[0m: 'company'"
          ]
        }
      ]
    },
    {
      "cell_type": "code",
      "source": [
        "# create a new item in dictionary\n",
        "\n",
        "coder['company'] = 'tech'\n",
        "coder"
      ],
      "metadata": {
        "colab": {
          "base_uri": "https://localhost:8080/"
        },
        "id": "J0CECoAuQm3R",
        "outputId": "38db8fca-3dde-41c1-a3a5-b3aa4063fdb5"
      },
      "execution_count": 18,
      "outputs": [
        {
          "output_type": "execute_result",
          "data": {
            "text/plain": [
              "{'name': 'ashraf', 'age': 26, 'language': ['python', 'SQL'], 'company': 'tech'}"
            ]
          },
          "metadata": {},
          "execution_count": 18
        }
      ]
    },
    {
      "cell_type": "code",
      "source": [
        "# update\n",
        "# learnt new languages, name\n",
        "coder.update({'name': 'hussain', 'languages':['python', 'sql','', 'html','json']})\n",
        "coder"
      ],
      "metadata": {
        "colab": {
          "base_uri": "https://localhost:8080/"
        },
        "id": "pmB9w4HOQm6R",
        "outputId": "f1f6f67f-e779-4665-a715-49da7bd66139"
      },
      "execution_count": 21,
      "outputs": [
        {
          "output_type": "execute_result",
          "data": {
            "text/plain": [
              "{'name': 'hussain',\n",
              " 'age': 26,\n",
              " 'language': ['python', 'SQL'],\n",
              " 'company': 'tech',\n",
              " 'languages': ['python', 'sql', '', 'html', 'json']}"
            ]
          },
          "metadata": {},
          "execution_count": 21
        }
      ]
    },
    {
      "cell_type": "code",
      "source": [
        "# delete\n",
        "\n",
        "del coder['company']\n",
        "coder"
      ],
      "metadata": {
        "colab": {
          "base_uri": "https://localhost:8080/"
        },
        "id": "jJ8mdPYDQm9D",
        "outputId": "da307cf4-3432-4ad4-db86-19774b81b440"
      },
      "execution_count": 22,
      "outputs": [
        {
          "output_type": "execute_result",
          "data": {
            "text/plain": [
              "{'name': 'hussain',\n",
              " 'age': 26,\n",
              " 'language': ['python', 'SQL'],\n",
              " 'languages': ['python', 'sql', '', 'html', 'json']}"
            ]
          },
          "metadata": {},
          "execution_count": 22
        }
      ]
    },
    {
      "cell_type": "code",
      "source": [
        "# pop ~ similar to delter\n",
        "\n",
        "languages = coder.pop('languages')\n",
        "languages"
      ],
      "metadata": {
        "colab": {
          "base_uri": "https://localhost:8080/"
        },
        "id": "jDm_GypiQm_t",
        "outputId": "b083aa4e-84ab-42ef-ff52-f94c778ee8be"
      },
      "execution_count": 23,
      "outputs": [
        {
          "output_type": "execute_result",
          "data": {
            "text/plain": [
              "['python', 'sql', '', 'html', 'json']"
            ]
          },
          "metadata": {},
          "execution_count": 23
        }
      ]
    },
    {
      "cell_type": "code",
      "source": [
        "coder"
      ],
      "metadata": {
        "colab": {
          "base_uri": "https://localhost:8080/"
        },
        "id": "vbqe2cSXQnC7",
        "outputId": "788bea05-0bf6-4a59-ce13-7f03e6548512"
      },
      "execution_count": 24,
      "outputs": [
        {
          "output_type": "execute_result",
          "data": {
            "text/plain": [
              "{'name': 'hussain', 'age': 26, 'language': ['python', 'SQL']}"
            ]
          },
          "metadata": {},
          "execution_count": 24
        }
      ]
    },
    {
      "cell_type": "code",
      "source": [
        "coder.popitem()\n",
        "coder"
      ],
      "metadata": {
        "colab": {
          "base_uri": "https://localhost:8080/"
        },
        "id": "92_zLH2sQnGb",
        "outputId": "e66e90c2-8f3d-4ed2-af9c-28efed3d2e57"
      },
      "execution_count": 25,
      "outputs": [
        {
          "output_type": "execute_result",
          "data": {
            "text/plain": [
              "{'name': 'hussain', 'age': 26}"
            ]
          },
          "metadata": {},
          "execution_count": 25
        }
      ]
    },
    {
      "cell_type": "code",
      "source": [
        "# length of dict\n",
        "\n",
        "len(coder)"
      ],
      "metadata": {
        "colab": {
          "base_uri": "https://localhost:8080/"
        },
        "id": "odS5YgljPiAE",
        "outputId": "4b19d597-2567-4b34-8d76-fa8df06a3333"
      },
      "execution_count": 26,
      "outputs": [
        {
          "output_type": "execute_result",
          "data": {
            "text/plain": [
              "2"
            ]
          },
          "metadata": {},
          "execution_count": 26
        }
      ]
    },
    {
      "cell_type": "code",
      "source": [
        "# anothe way to create a dictionary\n",
        "\n",
        "baseball_player = dict(team = 'Yankees', name='Rutherford', position='Pitcher')\n",
        "baseball_player"
      ],
      "metadata": {
        "colab": {
          "base_uri": "https://localhost:8080/"
        },
        "id": "lGDF-XZEPiCw",
        "outputId": "1e2c2fda-fa7b-4e7b-d6eb-e1471111fe34"
      },
      "execution_count": 27,
      "outputs": [
        {
          "output_type": "execute_result",
          "data": {
            "text/plain": [
              "{'team': 'Yankees', 'name': 'Rutherford', 'position': 'Pitcher'}"
            ]
          },
          "metadata": {},
          "execution_count": 27
        }
      ]
    },
    {
      "cell_type": "code",
      "source": [
        "# memory\n",
        "\n",
        "bb2 = baseball_player\n",
        "bb2"
      ],
      "metadata": {
        "colab": {
          "base_uri": "https://localhost:8080/"
        },
        "id": "crnWrYfxUckD",
        "outputId": "e2393387-fb96-4b38-94d7-45942b13c128"
      },
      "execution_count": 28,
      "outputs": [
        {
          "output_type": "execute_result",
          "data": {
            "text/plain": [
              "{'team': 'Yankees', 'name': 'Rutherford', 'position': 'Pitcher'}"
            ]
          },
          "metadata": {},
          "execution_count": 28
        }
      ]
    },
    {
      "cell_type": "code",
      "source": [
        "bb2['division'] = 'east'\n",
        "bb2"
      ],
      "metadata": {
        "colab": {
          "base_uri": "https://localhost:8080/"
        },
        "id": "NPAMTwZJUcme",
        "outputId": "bff2da14-ce6d-4944-f9b3-334f62d94b11"
      },
      "execution_count": 29,
      "outputs": [
        {
          "output_type": "execute_result",
          "data": {
            "text/plain": [
              "{'team': 'Yankees',\n",
              " 'name': 'Rutherford',\n",
              " 'position': 'Pitcher',\n",
              " 'division': 'east'}"
            ]
          },
          "metadata": {},
          "execution_count": 29
        }
      ]
    },
    {
      "cell_type": "code",
      "source": [
        "baseball_player"
      ],
      "metadata": {
        "colab": {
          "base_uri": "https://localhost:8080/"
        },
        "id": "RT6ngCPWUcpI",
        "outputId": "ee55d442-f569-43f9-8e0d-07cbaa18d997"
      },
      "execution_count": 30,
      "outputs": [
        {
          "output_type": "execute_result",
          "data": {
            "text/plain": [
              "{'team': 'Yankees',\n",
              " 'name': 'Rutherford',\n",
              " 'position': 'Pitcher',\n",
              " 'division': 'east'}"
            ]
          },
          "metadata": {},
          "execution_count": 30
        }
      ]
    },
    {
      "cell_type": "code",
      "source": [
        "bb3 = baseball_player.copy()\n",
        "bb3"
      ],
      "metadata": {
        "colab": {
          "base_uri": "https://localhost:8080/"
        },
        "id": "ejXjqWPYPiFj",
        "outputId": "40e0dc27-264d-4163-a16e-116128dc32fe"
      },
      "execution_count": 31,
      "outputs": [
        {
          "output_type": "execute_result",
          "data": {
            "text/plain": [
              "{'team': 'Yankees',\n",
              " 'name': 'Rutherford',\n",
              " 'position': 'Pitcher',\n",
              " 'division': 'east'}"
            ]
          },
          "metadata": {},
          "execution_count": 31
        }
      ]
    },
    {
      "cell_type": "code",
      "source": [
        "bb3['decade']='1920s'\n",
        "bb3"
      ],
      "metadata": {
        "colab": {
          "base_uri": "https://localhost:8080/"
        },
        "id": "Q5-CoIKsPiI5",
        "outputId": "81226758-e5ee-4452-aab3-863c8bb64e4f"
      },
      "execution_count": 32,
      "outputs": [
        {
          "output_type": "execute_result",
          "data": {
            "text/plain": [
              "{'team': 'Yankees',\n",
              " 'name': 'Rutherford',\n",
              " 'position': 'Pitcher',\n",
              " 'division': 'east',\n",
              " 'decade': '1920s'}"
            ]
          },
          "metadata": {},
          "execution_count": 32
        }
      ]
    },
    {
      "cell_type": "code",
      "source": [
        "baseball_player"
      ],
      "metadata": {
        "colab": {
          "base_uri": "https://localhost:8080/"
        },
        "id": "oG4xR7iiVAaf",
        "outputId": "365c6575-aabe-4270-d11e-188dbbd48ff4"
      },
      "execution_count": 33,
      "outputs": [
        {
          "output_type": "execute_result",
          "data": {
            "text/plain": [
              "{'team': 'Yankees',\n",
              " 'name': 'Rutherford',\n",
              " 'position': 'Pitcher',\n",
              " 'division': 'east'}"
            ]
          },
          "metadata": {},
          "execution_count": 33
        }
      ]
    },
    {
      "cell_type": "code",
      "source": [
        "# clear\n",
        "bb3.clear()\n",
        "bb3"
      ],
      "metadata": {
        "colab": {
          "base_uri": "https://localhost:8080/"
        },
        "id": "h4XRQzGoVCgi",
        "outputId": "f807e06b-13dd-43fc-af7b-eaa3352bb6fc"
      },
      "execution_count": 35,
      "outputs": [
        {
          "output_type": "execute_result",
          "data": {
            "text/plain": [
              "{}"
            ]
          },
          "metadata": {},
          "execution_count": 35
        }
      ]
    },
    {
      "cell_type": "code",
      "source": [
        "# set default\n",
        "\n",
        "baseball_player.setdefault('sport','baseball')\n",
        "baseball_player"
      ],
      "metadata": {
        "colab": {
          "base_uri": "https://localhost:8080/"
        },
        "id": "eZTzG4MqVGSS",
        "outputId": "f520f40f-e091-48fa-e067-bacf120d2b3c"
      },
      "execution_count": 36,
      "outputs": [
        {
          "output_type": "execute_result",
          "data": {
            "text/plain": [
              "{'team': 'Yankees',\n",
              " 'name': 'Rutherford',\n",
              " 'position': 'Pitcher',\n",
              " 'division': 'east',\n",
              " 'sport': 'baseball'}"
            ]
          },
          "metadata": {},
          "execution_count": 36
        }
      ]
    },
    {
      "cell_type": "code",
      "source": [
        "# create dictionary from keys\n",
        "\n",
        "teams = ['Dodgers', 'Angels', 'RedSox']\n",
        "wins = 0"
      ],
      "metadata": {
        "id": "uGEtBOG9VWUr"
      },
      "execution_count": 38,
      "outputs": []
    },
    {
      "cell_type": "code",
      "source": [
        "west = dict.fromkeys(teams,wins)\n",
        "west"
      ],
      "metadata": {
        "colab": {
          "base_uri": "https://localhost:8080/"
        },
        "id": "lBvn27GZVhJ5",
        "outputId": "51b16edd-a120-4ab9-cdf7-7460bc150769"
      },
      "execution_count": 39,
      "outputs": [
        {
          "output_type": "execute_result",
          "data": {
            "text/plain": [
              "{'Dodgers': 0, 'Angels': 0, 'RedSox': 0}"
            ]
          },
          "metadata": {},
          "execution_count": 39
        }
      ]
    },
    {
      "cell_type": "code",
      "source": [],
      "metadata": {
        "id": "Lsl3IrM0VqKl"
      },
      "execution_count": null,
      "outputs": []
    }
  ]
}