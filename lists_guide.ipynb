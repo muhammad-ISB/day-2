{
  "nbformat": 4,
  "nbformat_minor": 0,
  "metadata": {
    "colab": {
      "provenance": []
    },
    "kernelspec": {
      "name": "python3",
      "display_name": "Python 3"
    },
    "language_info": {
      "name": "python"
    }
  },
  "cells": [
    {
      "cell_type": "code",
      "execution_count": 1,
      "metadata": {
        "id": "69qsLD8spPp8"
      },
      "outputs": [],
      "source": [
        "list_nums = [1,2,3,4,5,6,7,8,9,10]"
      ]
    },
    {
      "cell_type": "code",
      "source": [
        "list_letters = ['a', 'b', 'c', 'd']"
      ],
      "metadata": {
        "id": "kPzz-cMWpUP_"
      },
      "execution_count": 2,
      "outputs": []
    },
    {
      "cell_type": "code",
      "source": [
        "lsit_num_letters= ['a', 3, '5', 6, 'ashraf']"
      ],
      "metadata": {
        "id": "adVrZtc2pUSo"
      },
      "execution_count": 3,
      "outputs": []
    },
    {
      "cell_type": "code",
      "source": [
        "lsit_with_a_list = [[1,4], [3,3], [7,8]]"
      ],
      "metadata": {
        "id": "QhAd4yvlpUVS"
      },
      "execution_count": 4,
      "outputs": []
    },
    {
      "cell_type": "code",
      "source": [
        "# grab elements\n",
        "\n",
        "print(list_letters)"
      ],
      "metadata": {
        "colab": {
          "base_uri": "https://localhost:8080/"
        },
        "id": "k2hJf2y9pUX2",
        "outputId": "3171a605-0fb1-4b37-9d38-93646ab717d1"
      },
      "execution_count": 5,
      "outputs": [
        {
          "output_type": "stream",
          "name": "stdout",
          "text": [
            "['a', 'b', 'c', 'd']\n"
          ]
        }
      ]
    },
    {
      "cell_type": "code",
      "source": [
        "# grab 1st element\n",
        "list_nums[0]"
      ],
      "metadata": {
        "colab": {
          "base_uri": "https://localhost:8080/"
        },
        "id": "xOEouo6HpUax",
        "outputId": "266280b4-ba21-4f4a-b21e-e91279ff3864"
      },
      "execution_count": 6,
      "outputs": [
        {
          "output_type": "execute_result",
          "data": {
            "text/plain": [
              "1"
            ]
          },
          "metadata": {},
          "execution_count": 6
        }
      ]
    },
    {
      "cell_type": "code",
      "source": [
        "list_letters[2]"
      ],
      "metadata": {
        "colab": {
          "base_uri": "https://localhost:8080/",
          "height": 36
        },
        "id": "WbCEaIH3pUdO",
        "outputId": "d0b29b74-7fe5-40f9-daef-7e8de303ef89"
      },
      "execution_count": 7,
      "outputs": [
        {
          "output_type": "execute_result",
          "data": {
            "text/plain": [
              "'c'"
            ],
            "application/vnd.google.colaboratory.intrinsic+json": {
              "type": "string"
            }
          },
          "metadata": {},
          "execution_count": 7
        }
      ]
    },
    {
      "cell_type": "code",
      "source": [
        "list_letters[-1]"
      ],
      "metadata": {
        "colab": {
          "base_uri": "https://localhost:8080/",
          "height": 36
        },
        "id": "-YPVlJrapUf7",
        "outputId": "56c3117f-6df0-4c88-f3d3-9fa0eb61acc9"
      },
      "execution_count": 8,
      "outputs": [
        {
          "output_type": "execute_result",
          "data": {
            "text/plain": [
              "'d'"
            ],
            "application/vnd.google.colaboratory.intrinsic+json": {
              "type": "string"
            }
          },
          "metadata": {},
          "execution_count": 8
        }
      ]
    },
    {
      "cell_type": "code",
      "source": [
        "list_letters[-2]"
      ],
      "metadata": {
        "colab": {
          "base_uri": "https://localhost:8080/",
          "height": 36
        },
        "id": "EMzuMWcrpUiw",
        "outputId": "8c0f4c90-431b-41c3-b651-cdb50dc9d6ae"
      },
      "execution_count": 9,
      "outputs": [
        {
          "output_type": "execute_result",
          "data": {
            "text/plain": [
              "'c'"
            ],
            "application/vnd.google.colaboratory.intrinsic+json": {
              "type": "string"
            }
          },
          "metadata": {},
          "execution_count": 9
        }
      ]
    },
    {
      "cell_type": "code",
      "source": [
        "# multiple items\n",
        "\n",
        "list_letters[0:2]"
      ],
      "metadata": {
        "colab": {
          "base_uri": "https://localhost:8080/"
        },
        "id": "8Ylu_miTpUlp",
        "outputId": "d4d4b7df-47fb-4a1f-b5ed-3cf47a39d78a"
      },
      "execution_count": 10,
      "outputs": [
        {
          "output_type": "execute_result",
          "data": {
            "text/plain": [
              "['a', 'b']"
            ]
          },
          "metadata": {},
          "execution_count": 10
        }
      ]
    },
    {
      "cell_type": "code",
      "source": [
        "list_letters[0:3]"
      ],
      "metadata": {
        "colab": {
          "base_uri": "https://localhost:8080/"
        },
        "id": "1FMukooFpUoo",
        "outputId": "3679db10-5637-4f6a-f704-ef4ba354401b"
      },
      "execution_count": 11,
      "outputs": [
        {
          "output_type": "execute_result",
          "data": {
            "text/plain": [
              "['a', 'b', 'c']"
            ]
          },
          "metadata": {},
          "execution_count": 11
        }
      ]
    },
    {
      "cell_type": "code",
      "source": [
        "list_letters[1:3]"
      ],
      "metadata": {
        "colab": {
          "base_uri": "https://localhost:8080/"
        },
        "id": "pAQWy6aopUrI",
        "outputId": "d6a4746c-5d56-4949-b947-131ab2f330e6"
      },
      "execution_count": 12,
      "outputs": [
        {
          "output_type": "execute_result",
          "data": {
            "text/plain": [
              "['b', 'c']"
            ]
          },
          "metadata": {},
          "execution_count": 12
        }
      ]
    },
    {
      "cell_type": "code",
      "source": [
        "# eveeery second letter\n",
        "\n",
        "list_letters[::2]"
      ],
      "metadata": {
        "colab": {
          "base_uri": "https://localhost:8080/"
        },
        "id": "roC1bPRtpUt9",
        "outputId": "b9b50ef0-ef4b-4676-c105-c85d6187f6bc"
      },
      "execution_count": 13,
      "outputs": [
        {
          "output_type": "execute_result",
          "data": {
            "text/plain": [
              "['a', 'c']"
            ]
          },
          "metadata": {},
          "execution_count": 13
        }
      ]
    },
    {
      "cell_type": "code",
      "source": [
        "# unpacking\n",
        "\n",
        "\n",
        "one, two, three, four = list_letters"
      ],
      "metadata": {
        "id": "1Gs_LX2wpUxV"
      },
      "execution_count": 14,
      "outputs": []
    },
    {
      "cell_type": "code",
      "source": [
        "print(one)\n",
        "print(two)\n",
        "print(four)"
      ],
      "metadata": {
        "colab": {
          "base_uri": "https://localhost:8080/"
        },
        "id": "ijJyrYizpU0O",
        "outputId": "f426cb5a-4dab-40e2-abd8-90009e78c76a"
      },
      "execution_count": 15,
      "outputs": [
        {
          "output_type": "stream",
          "name": "stdout",
          "text": [
            "a\n",
            "b\n",
            "d\n"
          ]
        }
      ]
    },
    {
      "cell_type": "code",
      "source": [
        "one, two, *other = list_letters"
      ],
      "metadata": {
        "id": "LpgNR96apU3H"
      },
      "execution_count": 16,
      "outputs": []
    },
    {
      "cell_type": "code",
      "source": [
        "# elements being replaced\n",
        "\n",
        "list_nums"
      ],
      "metadata": {
        "colab": {
          "base_uri": "https://localhost:8080/"
        },
        "id": "_dWX-t5_pU6F",
        "outputId": "07b59bf6-78ec-4121-cfd6-862a254cd2cf"
      },
      "execution_count": 17,
      "outputs": [
        {
          "output_type": "execute_result",
          "data": {
            "text/plain": [
              "[1, 2, 3, 4, 5, 6, 7, 8, 9, 10]"
            ]
          },
          "metadata": {},
          "execution_count": 17
        }
      ]
    },
    {
      "cell_type": "code",
      "source": [
        "list_nums[0] = 999\n",
        "list_nums"
      ],
      "metadata": {
        "colab": {
          "base_uri": "https://localhost:8080/"
        },
        "id": "D07N7N24pU9H",
        "outputId": "a13ee042-8169-4bb6-ec74-66709d3059c0"
      },
      "execution_count": 18,
      "outputs": [
        {
          "output_type": "execute_result",
          "data": {
            "text/plain": [
              "[999, 2, 3, 4, 5, 6, 7, 8, 9, 10]"
            ]
          },
          "metadata": {},
          "execution_count": 18
        }
      ]
    },
    {
      "cell_type": "code",
      "source": [
        "list_letters[3] = 'abcd'\n",
        "list_letters"
      ],
      "metadata": {
        "colab": {
          "base_uri": "https://localhost:8080/"
        },
        "id": "luohIjZXpU_6",
        "outputId": "3e5d3cc3-86cc-4068-fff5-17f9d128e5c3"
      },
      "execution_count": 19,
      "outputs": [
        {
          "output_type": "execute_result",
          "data": {
            "text/plain": [
              "['a', 'b', 'c', 'abcd']"
            ]
          },
          "metadata": {},
          "execution_count": 19
        }
      ]
    },
    {
      "cell_type": "code",
      "source": [
        "lsit_with_a_list[2] = ['querty',6]\n",
        "lsit_with_a_list"
      ],
      "metadata": {
        "colab": {
          "base_uri": "https://localhost:8080/"
        },
        "id": "lDvsdBYUpVDU",
        "outputId": "aeb12a1f-39b6-495c-97bf-ffbc553003c9"
      },
      "execution_count": 20,
      "outputs": [
        {
          "output_type": "execute_result",
          "data": {
            "text/plain": [
              "[[1, 4], [3, 3], ['querty', 6]]"
            ]
          },
          "metadata": {},
          "execution_count": 20
        }
      ]
    },
    {
      "cell_type": "code",
      "source": [
        "# sorting list\n",
        "\n",
        "list_letters.sort()\n",
        "list_letters"
      ],
      "metadata": {
        "colab": {
          "base_uri": "https://localhost:8080/"
        },
        "id": "8MOOR4AypVGf",
        "outputId": "5a330a49-19f9-4d8c-bbed-f4eeb992c519"
      },
      "execution_count": 21,
      "outputs": [
        {
          "output_type": "execute_result",
          "data": {
            "text/plain": [
              "['a', 'abcd', 'b', 'c']"
            ]
          },
          "metadata": {},
          "execution_count": 21
        }
      ]
    },
    {
      "cell_type": "code",
      "source": [
        "sorted(list_nums)"
      ],
      "metadata": {
        "colab": {
          "base_uri": "https://localhost:8080/"
        },
        "id": "F2Yy25auuY5L",
        "outputId": "58ae7d92-999f-4279-c000-0c840e725730"
      },
      "execution_count": 22,
      "outputs": [
        {
          "output_type": "execute_result",
          "data": {
            "text/plain": [
              "[2, 3, 4, 5, 6, 7, 8, 9, 10, 999]"
            ]
          },
          "metadata": {},
          "execution_count": 22
        }
      ]
    },
    {
      "cell_type": "code",
      "source": [
        "# reverse an order of list"
      ],
      "metadata": {
        "id": "S80TyKeWuY-f"
      },
      "execution_count": 23,
      "outputs": []
    },
    {
      "cell_type": "code",
      "source": [
        "lsit_num_letters.reverse()\n",
        "lsit_num_letters"
      ],
      "metadata": {
        "colab": {
          "base_uri": "https://localhost:8080/"
        },
        "id": "Koe6LKQYuZBn",
        "outputId": "6a0f731d-bbc4-435f-daa8-63456fcfde23"
      },
      "execution_count": 24,
      "outputs": [
        {
          "output_type": "execute_result",
          "data": {
            "text/plain": [
              "['ashraf', 6, '5', 3, 'a']"
            ]
          },
          "metadata": {},
          "execution_count": 24
        }
      ]
    },
    {
      "cell_type": "code",
      "source": [
        "list_nums.sort(reverse=True)\n",
        "list_nums"
      ],
      "metadata": {
        "colab": {
          "base_uri": "https://localhost:8080/"
        },
        "id": "CcZTUc_GuZEx",
        "outputId": "68272bbb-c487-4855-8a2c-2a9390ff3877"
      },
      "execution_count": 25,
      "outputs": [
        {
          "output_type": "execute_result",
          "data": {
            "text/plain": [
              "[999, 10, 9, 8, 7, 6, 5, 4, 3, 2]"
            ]
          },
          "metadata": {},
          "execution_count": 25
        }
      ]
    },
    {
      "cell_type": "code",
      "source": [
        "list_nums.append(11)\n",
        "list_nums"
      ],
      "metadata": {
        "id": "esSXNOXguZHT",
        "colab": {
          "base_uri": "https://localhost:8080/"
        },
        "outputId": "b1faef67-8f04-4953-dd85-cff33119ce88"
      },
      "execution_count": 26,
      "outputs": [
        {
          "output_type": "execute_result",
          "data": {
            "text/plain": [
              "[999, 10, 9, 8, 7, 6, 5, 4, 3, 2, 11]"
            ]
          },
          "metadata": {},
          "execution_count": 26
        }
      ]
    },
    {
      "cell_type": "code",
      "source": [
        "# return indexes\n",
        "\n",
        "list_nums.index(4)"
      ],
      "metadata": {
        "id": "MEZYPKUPuZKb",
        "colab": {
          "base_uri": "https://localhost:8080/"
        },
        "outputId": "1f3b3458-b82a-4590-d5e4-250e7bfe092e"
      },
      "execution_count": 28,
      "outputs": [
        {
          "output_type": "execute_result",
          "data": {
            "text/plain": [
              "7"
            ]
          },
          "metadata": {},
          "execution_count": 28
        }
      ]
    },
    {
      "cell_type": "code",
      "source": [
        "# add ti the lists\n",
        "\n",
        "list_letters.extend(['l', ' m', ' r'])\n",
        "list_letters"
      ],
      "metadata": {
        "id": "7Cuf5Dl5uZN1",
        "colab": {
          "base_uri": "https://localhost:8080/"
        },
        "outputId": "9452ed83-e8c8-4f4f-e3c5-6a83c33f4642"
      },
      "execution_count": 31,
      "outputs": [
        {
          "output_type": "execute_result",
          "data": {
            "text/plain": [
              "['a', 'abcd', 'b', 'c', 'l', ' m', ' r', 'l', ' m', ' r']"
            ]
          },
          "metadata": {},
          "execution_count": 31
        }
      ]
    },
    {
      "cell_type": "code",
      "source": [
        "list_letters_add = ['f', 'q', 'v']\n",
        "list_letters.extend(list_letters_add)\n",
        "list_letters"
      ],
      "metadata": {
        "id": "IGbET-QKuZRU",
        "colab": {
          "base_uri": "https://localhost:8080/"
        },
        "outputId": "b90bf6e1-6b66-40d4-f793-1f9df5650ae7"
      },
      "execution_count": 32,
      "outputs": [
        {
          "output_type": "execute_result",
          "data": {
            "text/plain": [
              "['a', 'abcd', 'b', 'c', 'l', ' m', ' r', 'l', ' m', ' r', 'f', 'q', 'v']"
            ]
          },
          "metadata": {},
          "execution_count": 32
        }
      ]
    },
    {
      "cell_type": "code",
      "source": [
        "list_letters = list_letters + ['w', 'x', 'y']\n",
        "list_letters"
      ],
      "metadata": {
        "colab": {
          "base_uri": "https://localhost:8080/"
        },
        "id": "oC5DpMC2GrSh",
        "outputId": "a9a1d389-ff31-49ea-ad4f-fe48dd9bc3ca"
      },
      "execution_count": 33,
      "outputs": [
        {
          "output_type": "execute_result",
          "data": {
            "text/plain": [
              "['a',\n",
              " 'abcd',\n",
              " 'b',\n",
              " 'c',\n",
              " 'l',\n",
              " ' m',\n",
              " ' r',\n",
              " 'l',\n",
              " ' m',\n",
              " ' r',\n",
              " 'f',\n",
              " 'q',\n",
              " 'v',\n",
              " 'w',\n",
              " 'x',\n",
              " 'y']"
            ]
          },
          "metadata": {},
          "execution_count": 33
        }
      ]
    },
    {
      "cell_type": "code",
      "source": [
        "# insert in a specific spot\n",
        "\n",
        "list_letters.insert(0, 'M')\n",
        "list_letters"
      ],
      "metadata": {
        "colab": {
          "base_uri": "https://localhost:8080/"
        },
        "id": "-JVCKLtcG2_I",
        "outputId": "8119ec6b-0ae6-4ec8-b505-0fd4f4196e19"
      },
      "execution_count": 34,
      "outputs": [
        {
          "output_type": "execute_result",
          "data": {
            "text/plain": [
              "['M',\n",
              " 'a',\n",
              " 'abcd',\n",
              " 'b',\n",
              " 'c',\n",
              " 'l',\n",
              " ' m',\n",
              " ' r',\n",
              " 'l',\n",
              " ' m',\n",
              " ' r',\n",
              " 'f',\n",
              " 'q',\n",
              " 'v',\n",
              " 'w',\n",
              " 'x',\n",
              " 'y']"
            ]
          },
          "metadata": {},
          "execution_count": 34
        }
      ]
    },
    {
      "cell_type": "code",
      "source": [
        "list_letters.insert(1, 'N')\n",
        "list_letters"
      ],
      "metadata": {
        "colab": {
          "base_uri": "https://localhost:8080/"
        },
        "id": "IgtT8nxyHEQ9",
        "outputId": "416201c4-374b-4905-bc9e-e5f053294c20"
      },
      "execution_count": 36,
      "outputs": [
        {
          "output_type": "execute_result",
          "data": {
            "text/plain": [
              "['M',\n",
              " 'N',\n",
              " 'a',\n",
              " 'abcd',\n",
              " 'N',\n",
              " 'b',\n",
              " 'c',\n",
              " 'l',\n",
              " ' m',\n",
              " ' r',\n",
              " 'l',\n",
              " ' m',\n",
              " ' r',\n",
              " 'f',\n",
              " 'q',\n",
              " 'v',\n",
              " 'w',\n",
              " 'x',\n",
              " 'y']"
            ]
          },
          "metadata": {},
          "execution_count": 36
        }
      ]
    },
    {
      "cell_type": "code",
      "source": [
        "list_letters.remove('a')"
      ],
      "metadata": {
        "id": "y6AO7BWXHIXE"
      },
      "execution_count": 37,
      "outputs": []
    },
    {
      "cell_type": "code",
      "source": [
        "list_letters"
      ],
      "metadata": {
        "colab": {
          "base_uri": "https://localhost:8080/"
        },
        "id": "sMjHbPD1HQId",
        "outputId": "e33f9875-df18-4cd0-b0c5-c63f9d6f7dd8"
      },
      "execution_count": 38,
      "outputs": [
        {
          "output_type": "execute_result",
          "data": {
            "text/plain": [
              "['M',\n",
              " 'N',\n",
              " 'abcd',\n",
              " 'N',\n",
              " 'b',\n",
              " 'c',\n",
              " 'l',\n",
              " ' m',\n",
              " ' r',\n",
              " 'l',\n",
              " ' m',\n",
              " ' r',\n",
              " 'f',\n",
              " 'q',\n",
              " 'v',\n",
              " 'w',\n",
              " 'x',\n",
              " 'y']"
            ]
          },
          "metadata": {},
          "execution_count": 38
        }
      ]
    },
    {
      "cell_type": "code",
      "source": [
        "list_letters.pop() # removes last element\n",
        "list_letters"
      ],
      "metadata": {
        "colab": {
          "base_uri": "https://localhost:8080/"
        },
        "id": "lTlshJqgHRMD",
        "outputId": "4c3f8c56-c97c-4eaa-8dc6-19f38cb3cf55"
      },
      "execution_count": 39,
      "outputs": [
        {
          "output_type": "execute_result",
          "data": {
            "text/plain": [
              "['M',\n",
              " 'N',\n",
              " 'abcd',\n",
              " 'N',\n",
              " 'b',\n",
              " 'c',\n",
              " 'l',\n",
              " ' m',\n",
              " ' r',\n",
              " 'l',\n",
              " ' m',\n",
              " ' r',\n",
              " 'f',\n",
              " 'q',\n",
              " 'v',\n",
              " 'w',\n",
              " 'x']"
            ]
          },
          "metadata": {},
          "execution_count": 39
        }
      ]
    },
    {
      "cell_type": "code",
      "source": [
        "list_letters.pop(2)\n",
        "list_letters"
      ],
      "metadata": {
        "colab": {
          "base_uri": "https://localhost:8080/"
        },
        "id": "pewhMlIZHdci",
        "outputId": "d709997d-20c0-4312-b895-fc74d99cb3b3"
      },
      "execution_count": 40,
      "outputs": [
        {
          "output_type": "execute_result",
          "data": {
            "text/plain": [
              "['M',\n",
              " 'N',\n",
              " 'N',\n",
              " 'b',\n",
              " 'c',\n",
              " 'l',\n",
              " ' m',\n",
              " ' r',\n",
              " 'l',\n",
              " ' m',\n",
              " ' r',\n",
              " 'f',\n",
              " 'q',\n",
              " 'v',\n",
              " 'w',\n",
              " 'x']"
            ]
          },
          "metadata": {},
          "execution_count": 40
        }
      ]
    },
    {
      "cell_type": "code",
      "source": [
        "lsit_num_letters\n"
      ],
      "metadata": {
        "colab": {
          "base_uri": "https://localhost:8080/"
        },
        "id": "WDjEUKvRHrpg",
        "outputId": "6f18668b-f0af-4916-b2b7-808c9f9007a2"
      },
      "execution_count": 41,
      "outputs": [
        {
          "output_type": "execute_result",
          "data": {
            "text/plain": [
              "['ashraf', 6, '5', 3, 'a']"
            ]
          },
          "metadata": {},
          "execution_count": 41
        }
      ]
    },
    {
      "cell_type": "code",
      "source": [
        "lsit_num_letters.clear() # removes everything\n",
        "lsit_num_letters"
      ],
      "metadata": {
        "colab": {
          "base_uri": "https://localhost:8080/"
        },
        "id": "-ezf0Lq7Hz1Y",
        "outputId": "20f84279-330d-40d2-c583-bbee26bb498d"
      },
      "execution_count": 42,
      "outputs": [
        {
          "output_type": "execute_result",
          "data": {
            "text/plain": [
              "[]"
            ]
          },
          "metadata": {},
          "execution_count": 42
        }
      ]
    },
    {
      "cell_type": "code",
      "source": [
        "list_letters"
      ],
      "metadata": {
        "colab": {
          "base_uri": "https://localhost:8080/"
        },
        "id": "yq6IZH4SH-lq",
        "outputId": "e1aff476-16d8-4a6c-efff-3afba06869e7"
      },
      "execution_count": 43,
      "outputs": [
        {
          "output_type": "execute_result",
          "data": {
            "text/plain": [
              "['M',\n",
              " 'N',\n",
              " 'N',\n",
              " 'b',\n",
              " 'c',\n",
              " 'l',\n",
              " ' m',\n",
              " ' r',\n",
              " 'l',\n",
              " ' m',\n",
              " ' r',\n",
              " 'f',\n",
              " 'q',\n",
              " 'v',\n",
              " 'w',\n",
              " 'x']"
            ]
          },
          "metadata": {},
          "execution_count": 43
        }
      ]
    },
    {
      "cell_type": "code",
      "source": [
        "# loops\n",
        "\n",
        "for letter in list_letters:\n",
        "  print(letter)"
      ],
      "metadata": {
        "colab": {
          "base_uri": "https://localhost:8080/"
        },
        "id": "qKcfcyeDH2HG",
        "outputId": "331f4865-5a21-48e3-926f-79efa791adc0"
      },
      "execution_count": 44,
      "outputs": [
        {
          "output_type": "stream",
          "name": "stdout",
          "text": [
            "M\n",
            "N\n",
            "N\n",
            "b\n",
            "c\n",
            "l\n",
            " m\n",
            " r\n",
            "l\n",
            " m\n",
            " r\n",
            "f\n",
            "q\n",
            "v\n",
            "w\n",
            "x\n"
          ]
        }
      ]
    },
    {
      "cell_type": "code",
      "source": [
        "for index, letter in enumerate(list_letters):\n",
        "  print(index, letter)"
      ],
      "metadata": {
        "colab": {
          "base_uri": "https://localhost:8080/"
        },
        "id": "GERhRgduIFID",
        "outputId": "c1225a7c-c0d2-4aa7-b056-43662e9f2146"
      },
      "execution_count": 45,
      "outputs": [
        {
          "output_type": "stream",
          "name": "stdout",
          "text": [
            "0 M\n",
            "1 N\n",
            "2 N\n",
            "3 b\n",
            "4 c\n",
            "5 l\n",
            "6  m\n",
            "7  r\n",
            "8 l\n",
            "9  m\n",
            "10  r\n",
            "11 f\n",
            "12 q\n",
            "13 v\n",
            "14 w\n",
            "15 x\n"
          ]
        }
      ]
    },
    {
      "cell_type": "code",
      "source": [
        "for index, letter in enumerate(list_letters):\n",
        "  print(index, '-', letter)"
      ],
      "metadata": {
        "colab": {
          "base_uri": "https://localhost:8080/"
        },
        "id": "rPApRn9QIL7a",
        "outputId": "31bfc080-4929-4497-b630-8c1b0b0c3205"
      },
      "execution_count": 49,
      "outputs": [
        {
          "output_type": "stream",
          "name": "stdout",
          "text": [
            "0 - M\n",
            "1 - N\n",
            "2 - N\n",
            "3 - b\n",
            "4 - c\n",
            "5 - l\n",
            "6 -  m\n",
            "7 -  r\n",
            "8 - l\n",
            "9 -  m\n",
            "10 -  r\n",
            "11 - f\n",
            "12 - q\n",
            "13 - v\n",
            "14 - w\n",
            "15 - x\n"
          ]
        }
      ]
    },
    {
      "cell_type": "code",
      "source": [
        "for index, letter in enumerate(list_letters, start =2): # index starts at 2\n",
        "  print(index, '-', letter)"
      ],
      "metadata": {
        "colab": {
          "base_uri": "https://localhost:8080/"
        },
        "id": "Sab8TyRYIL_G",
        "outputId": "3bbb845a-bdba-49d2-9714-c1b8295aaf31"
      },
      "execution_count": 50,
      "outputs": [
        {
          "output_type": "stream",
          "name": "stdout",
          "text": [
            "2 - M\n",
            "3 - N\n",
            "4 - N\n",
            "5 - b\n",
            "6 - c\n",
            "7 - l\n",
            "8 -  m\n",
            "9 -  r\n",
            "10 - l\n",
            "11 -  m\n",
            "12 -  r\n",
            "13 - f\n",
            "14 - q\n",
            "15 - v\n",
            "16 - w\n",
            "17 - x\n"
          ]
        }
      ]
    },
    {
      "cell_type": "code",
      "source": [
        "# memory on the list\n",
        "\n",
        "list_letter2 = list_letters\n",
        "list_letter2"
      ],
      "metadata": {
        "colab": {
          "base_uri": "https://localhost:8080/"
        },
        "id": "AJWm74ITIMCZ",
        "outputId": "e414efa3-619c-4bdb-adff-6bff0967125a"
      },
      "execution_count": 51,
      "outputs": [
        {
          "output_type": "execute_result",
          "data": {
            "text/plain": [
              "['M',\n",
              " 'N',\n",
              " 'N',\n",
              " 'b',\n",
              " 'c',\n",
              " 'l',\n",
              " ' m',\n",
              " ' r',\n",
              " 'l',\n",
              " ' m',\n",
              " ' r',\n",
              " 'f',\n",
              " 'q',\n",
              " 'v',\n",
              " 'w',\n",
              " 'x']"
            ]
          },
          "metadata": {},
          "execution_count": 51
        }
      ]
    },
    {
      "cell_type": "code",
      "source": [
        "list_letter2[0] = 'g'\n",
        "list_letter2"
      ],
      "metadata": {
        "colab": {
          "base_uri": "https://localhost:8080/"
        },
        "id": "A3tVyDltIMGO",
        "outputId": "61cfa33d-d7a3-4925-8a17-d2a2df537f96"
      },
      "execution_count": 52,
      "outputs": [
        {
          "output_type": "execute_result",
          "data": {
            "text/plain": [
              "['g',\n",
              " 'N',\n",
              " 'N',\n",
              " 'b',\n",
              " 'c',\n",
              " 'l',\n",
              " ' m',\n",
              " ' r',\n",
              " 'l',\n",
              " ' m',\n",
              " ' r',\n",
              " 'f',\n",
              " 'q',\n",
              " 'v',\n",
              " 'w',\n",
              " 'x']"
            ]
          },
          "metadata": {},
          "execution_count": 52
        }
      ]
    },
    {
      "cell_type": "code",
      "source": [
        "list_letters"
      ],
      "metadata": {
        "colab": {
          "base_uri": "https://localhost:8080/"
        },
        "id": "8RTWORsbIMH0",
        "outputId": "ed5361f0-38e3-41bf-e9ff-347ed65641ce"
      },
      "execution_count": 53,
      "outputs": [
        {
          "output_type": "execute_result",
          "data": {
            "text/plain": [
              "['g',\n",
              " 'N',\n",
              " 'N',\n",
              " 'b',\n",
              " 'c',\n",
              " 'l',\n",
              " ' m',\n",
              " ' r',\n",
              " 'l',\n",
              " ' m',\n",
              " ' r',\n",
              " 'f',\n",
              " 'q',\n",
              " 'v',\n",
              " 'w',\n",
              " 'x']"
            ]
          },
          "metadata": {},
          "execution_count": 53
        }
      ]
    },
    {
      "cell_type": "code",
      "source": [
        "# few ways to copy\n",
        "\n",
        "list_letters3 = list_letters[:]"
      ],
      "metadata": {
        "id": "7Z3mVN8PIMJq"
      },
      "execution_count": 54,
      "outputs": []
    },
    {
      "cell_type": "code",
      "source": [
        "list_letters3[0]='m'\n",
        "list_letters3"
      ],
      "metadata": {
        "colab": {
          "base_uri": "https://localhost:8080/"
        },
        "id": "XxUw0NdzIMLv",
        "outputId": "02a4fb5c-55f1-424b-fc09-23f5aa1bda23"
      },
      "execution_count": 55,
      "outputs": [
        {
          "output_type": "execute_result",
          "data": {
            "text/plain": [
              "['m',\n",
              " 'N',\n",
              " 'N',\n",
              " 'b',\n",
              " 'c',\n",
              " 'l',\n",
              " ' m',\n",
              " ' r',\n",
              " 'l',\n",
              " ' m',\n",
              " ' r',\n",
              " 'f',\n",
              " 'q',\n",
              " 'v',\n",
              " 'w',\n",
              " 'x']"
            ]
          },
          "metadata": {},
          "execution_count": 55
        }
      ]
    },
    {
      "cell_type": "code",
      "source": [
        "list_letters"
      ],
      "metadata": {
        "colab": {
          "base_uri": "https://localhost:8080/"
        },
        "id": "DWGJ6-ZqIMO5",
        "outputId": "e20b243b-bff3-4b98-b4e9-ac7ca87e0eab"
      },
      "execution_count": 56,
      "outputs": [
        {
          "output_type": "execute_result",
          "data": {
            "text/plain": [
              "['g',\n",
              " 'N',\n",
              " 'N',\n",
              " 'b',\n",
              " 'c',\n",
              " 'l',\n",
              " ' m',\n",
              " ' r',\n",
              " 'l',\n",
              " ' m',\n",
              " ' r',\n",
              " 'f',\n",
              " 'q',\n",
              " 'v',\n",
              " 'w',\n",
              " 'x']"
            ]
          },
          "metadata": {},
          "execution_count": 56
        }
      ]
    },
    {
      "cell_type": "code",
      "source": [
        "lsit_letters4 = list_letters[0:5]\n",
        "lsit_letters4"
      ],
      "metadata": {
        "colab": {
          "base_uri": "https://localhost:8080/"
        },
        "id": "Qu14wIMeIMSd",
        "outputId": "8831e844-3e1b-4f85-b750-6f71eaeb1bbe"
      },
      "execution_count": 57,
      "outputs": [
        {
          "output_type": "execute_result",
          "data": {
            "text/plain": [
              "['g', 'N', 'N', 'b', 'c']"
            ]
          },
          "metadata": {},
          "execution_count": 57
        }
      ]
    },
    {
      "cell_type": "code",
      "source": [
        "list_letters5 = list_letters.copy()"
      ],
      "metadata": {
        "id": "axt1n9elJkId"
      },
      "execution_count": 58,
      "outputs": []
    },
    {
      "cell_type": "code",
      "source": [
        "list_letters5[0] = 'I'\n",
        "list_letters5"
      ],
      "metadata": {
        "colab": {
          "base_uri": "https://localhost:8080/"
        },
        "id": "4_lkg_W5JrVB",
        "outputId": "36b6564d-03ab-46f2-b51b-0dfba96feedb"
      },
      "execution_count": 59,
      "outputs": [
        {
          "output_type": "execute_result",
          "data": {
            "text/plain": [
              "['I',\n",
              " 'N',\n",
              " 'N',\n",
              " 'b',\n",
              " 'c',\n",
              " 'l',\n",
              " ' m',\n",
              " ' r',\n",
              " 'l',\n",
              " ' m',\n",
              " ' r',\n",
              " 'f',\n",
              " 'q',\n",
              " 'v',\n",
              " 'w',\n",
              " 'x']"
            ]
          },
          "metadata": {},
          "execution_count": 59
        }
      ]
    },
    {
      "cell_type": "code",
      "source": [
        "list_letters"
      ],
      "metadata": {
        "colab": {
          "base_uri": "https://localhost:8080/"
        },
        "id": "R0_jtEJJJuS5",
        "outputId": "71c0f899-9434-480a-bca9-8d2578a3fea9"
      },
      "execution_count": 60,
      "outputs": [
        {
          "output_type": "execute_result",
          "data": {
            "text/plain": [
              "['g',\n",
              " 'N',\n",
              " 'N',\n",
              " 'b',\n",
              " 'c',\n",
              " 'l',\n",
              " ' m',\n",
              " ' r',\n",
              " 'l',\n",
              " ' m',\n",
              " ' r',\n",
              " 'f',\n",
              " 'q',\n",
              " 'v',\n",
              " 'w',\n",
              " 'x']"
            ]
          },
          "metadata": {},
          "execution_count": 60
        }
      ]
    },
    {
      "cell_type": "code",
      "source": [
        "list_letters5= list_letters[0:4]\n",
        "list_letters5"
      ],
      "metadata": {
        "colab": {
          "base_uri": "https://localhost:8080/"
        },
        "id": "_Rs0lBfeKJGc",
        "outputId": "9722af15-05e6-4631-8f6e-b06045b11f71"
      },
      "execution_count": 66,
      "outputs": [
        {
          "output_type": "execute_result",
          "data": {
            "text/plain": [
              "['g', 'N', 'N', 'b']"
            ]
          },
          "metadata": {},
          "execution_count": 66
        }
      ]
    },
    {
      "cell_type": "code",
      "source": [
        "# swap elements\n",
        "\n",
        "temp = list_letters5[1]\n",
        "temp"
      ],
      "metadata": {
        "colab": {
          "base_uri": "https://localhost:8080/",
          "height": 36
        },
        "id": "B22XajgyJxEQ",
        "outputId": "32efea1e-a57e-449f-c327-912de548e98b"
      },
      "execution_count": 67,
      "outputs": [
        {
          "output_type": "execute_result",
          "data": {
            "text/plain": [
              "'N'"
            ],
            "application/vnd.google.colaboratory.intrinsic+json": {
              "type": "string"
            }
          },
          "metadata": {},
          "execution_count": 67
        }
      ]
    },
    {
      "cell_type": "code",
      "source": [
        "list_letters5[1] = list_letters5[3]\n",
        "list_letters5[2] = temp"
      ],
      "metadata": {
        "id": "IpJrh39VJ0YU"
      },
      "execution_count": 68,
      "outputs": []
    },
    {
      "cell_type": "code",
      "source": [
        "list_letters5"
      ],
      "metadata": {
        "colab": {
          "base_uri": "https://localhost:8080/"
        },
        "id": "No2k31hHJ0cb",
        "outputId": "7f5fe3c2-041b-4126-bc66-b910fe07d7e3"
      },
      "execution_count": 69,
      "outputs": [
        {
          "output_type": "execute_result",
          "data": {
            "text/plain": [
              "['g', 'b', 'N', 'b']"
            ]
          },
          "metadata": {},
          "execution_count": 69
        }
      ]
    },
    {
      "cell_type": "code",
      "source": [
        "# miscillinious\n",
        "\n",
        "list_str = ' | '.join(list_letters)\n",
        "list_str"
      ],
      "metadata": {
        "colab": {
          "base_uri": "https://localhost:8080/",
          "height": 36
        },
        "id": "kgikx2KEJ0fS",
        "outputId": "cc36e3ce-831c-4599-dcaf-3bdc3c374d9a"
      },
      "execution_count": 71,
      "outputs": [
        {
          "output_type": "execute_result",
          "data": {
            "text/plain": [
              "'g | N | N | b | c | l |  m |  r | l |  m |  r | f | q | v | w | x'"
            ],
            "application/vnd.google.colaboratory.intrinsic+json": {
              "type": "string"
            }
          },
          "metadata": {},
          "execution_count": 71
        }
      ]
    },
    {
      "cell_type": "code",
      "source": [
        "list_letters_from_str = list_str.split(' | ')\n",
        "list_letters_from_str"
      ],
      "metadata": {
        "colab": {
          "base_uri": "https://localhost:8080/"
        },
        "id": "HGD31G7gJ0hH",
        "outputId": "00c461f5-a908-415f-a6c6-d16fc5e0440c"
      },
      "execution_count": 72,
      "outputs": [
        {
          "output_type": "execute_result",
          "data": {
            "text/plain": [
              "['g',\n",
              " 'N',\n",
              " 'N',\n",
              " 'b',\n",
              " 'c',\n",
              " 'l',\n",
              " ' m',\n",
              " ' r',\n",
              " 'l',\n",
              " ' m',\n",
              " ' r',\n",
              " 'f',\n",
              " 'q',\n",
              " 'v',\n",
              " 'w',\n",
              " 'x']"
            ]
          },
          "metadata": {},
          "execution_count": 72
        }
      ]
    },
    {
      "cell_type": "code",
      "source": [
        "# print an element times\n",
        "print(list_letters_from_str[-1]*11)"
      ],
      "metadata": {
        "colab": {
          "base_uri": "https://localhost:8080/"
        },
        "id": "apMojNxxJ0jf",
        "outputId": "a2a31d0f-30ef-45f3-fcdd-8ed7d0551e85"
      },
      "execution_count": 74,
      "outputs": [
        {
          "output_type": "stream",
          "name": "stdout",
          "text": [
            "xxxxxxxxxxx\n"
          ]
        }
      ]
    },
    {
      "cell_type": "code",
      "source": [],
      "metadata": {
        "id": "syAf1EX6J0mU"
      },
      "execution_count": null,
      "outputs": []
    },
    {
      "cell_type": "code",
      "source": [],
      "metadata": {
        "id": "D8QDdHkwJ0pT"
      },
      "execution_count": null,
      "outputs": []
    },
    {
      "cell_type": "code",
      "source": [],
      "metadata": {
        "id": "Zm0fghEfJ0so"
      },
      "execution_count": null,
      "outputs": []
    }
  ]
}