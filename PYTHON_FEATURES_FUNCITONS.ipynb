{
  "nbformat": 4,
  "nbformat_minor": 0,
  "metadata": {
    "colab": {
      "provenance": []
    },
    "kernelspec": {
      "name": "python3",
      "display_name": "Python 3"
    },
    "language_info": {
      "name": "python"
    }
  },
  "cells": [
    {
      "cell_type": "markdown",
      "source": [
        "## *args and **kwargs\n",
        "Allows us to have any number of positional arguments be pased to a function\n",
        "- positional arugnet is something which is passed in orger"
      ],
      "metadata": {
        "id": "vbT79tZ2qhSh"
      }
    },
    {
      "cell_type": "code",
      "execution_count": null,
      "metadata": {
        "id": "OGIgnXtNqbAG"
      },
      "outputs": [],
      "source": [
        "def hidden_feature_1(*args):\n",
        "  print(args)\n",
        "  print(type(args))"
      ]
    },
    {
      "cell_type": "code",
      "source": [
        "hidden_feature_1('a',1, 2,3, 4,5)"
      ],
      "metadata": {
        "id": "z97ixpJXq7yH",
        "colab": {
          "base_uri": "https://localhost:8080/"
        },
        "outputId": "b03e6e10-d119-462d-86c2-902699a02386"
      },
      "execution_count": null,
      "outputs": [
        {
          "output_type": "stream",
          "name": "stdout",
          "text": [
            "('a', 1, 2, 3, 4, 5)\n",
            "<class 'tuple'>\n"
          ]
        }
      ]
    },
    {
      "cell_type": "code",
      "source": [
        "def hidden_feature_1(a, b, *args):\n",
        "  print(a, b, args)\n",
        "  print(type(args))"
      ],
      "metadata": {
        "id": "iZB7b24sq8Tx"
      },
      "execution_count": null,
      "outputs": []
    },
    {
      "cell_type": "code",
      "source": [
        "hidden_feature_1('a',1, 2,3, 4,5)"
      ],
      "metadata": {
        "id": "1LW4LCoeq8WL",
        "colab": {
          "base_uri": "https://localhost:8080/"
        },
        "outputId": "bb968748-8eed-4003-a1e3-52af2f639af6"
      },
      "execution_count": null,
      "outputs": [
        {
          "output_type": "stream",
          "name": "stdout",
          "text": [
            "a 1 (2, 3, 4, 5)\n",
            "<class 'tuple'>\n"
          ]
        }
      ]
    },
    {
      "cell_type": "code",
      "source": [
        "print(1,\" \", 2)"
      ],
      "metadata": {
        "id": "lS7_e6TGq8Y5",
        "colab": {
          "base_uri": "https://localhost:8080/"
        },
        "outputId": "7e10891d-670e-4cf5-82b9-ba9faaf4c44b"
      },
      "execution_count": null,
      "outputs": [
        {
          "output_type": "stream",
          "name": "stdout",
          "text": [
            "1   2\n"
          ]
        }
      ]
    },
    {
      "cell_type": "code",
      "source": [
        "def hidden_feature_1(a, b, *args, **kwargs):\n",
        "  print(a, b, args, kwargs)\n",
        "  print(type(args))"
      ],
      "metadata": {
        "id": "-2kT-MhQ6yH1"
      },
      "execution_count": null,
      "outputs": []
    },
    {
      "cell_type": "code",
      "source": [
        "hidden_feature_1('a',1, 2,3, 4,5, key = 9, value = 11)"
      ],
      "metadata": {
        "id": "sTw1zxu_q8bv",
        "colab": {
          "base_uri": "https://localhost:8080/"
        },
        "outputId": "fc028171-dffb-48eb-d91c-46ad394eb229"
      },
      "execution_count": null,
      "outputs": [
        {
          "output_type": "stream",
          "name": "stdout",
          "text": [
            "a 1 (2, 3, 4, 5) {'key': 9, 'value': 11}\n",
            "<class 'tuple'>\n"
          ]
        }
      ]
    },
    {
      "cell_type": "code",
      "source": [
        "def hidden_feature_1(a, b, *args, values = [], **kwargs): # note that kwargs needs to be the last argument\n",
        "  print(a, b, args, kwargs, values)"
      ],
      "metadata": {
        "id": "SfTZRxVUq8eg"
      },
      "execution_count": null,
      "outputs": []
    },
    {
      "cell_type": "code",
      "source": [
        "hidden_feature_1('a',1, 2,3, 4,5, key = 9, value = 11, values = [1,2,3,4,6])"
      ],
      "metadata": {
        "id": "OyTXowEKq8hO",
        "colab": {
          "base_uri": "https://localhost:8080/"
        },
        "outputId": "c0383bb4-f4ec-41de-a951-6a93ee72c29e"
      },
      "execution_count": null,
      "outputs": [
        {
          "output_type": "stream",
          "name": "stdout",
          "text": [
            "a 1 (2, 3, 4, 5) {'key': 9, 'value': 11} [1, 2, 3, 4, 6]\n"
          ]
        }
      ]
    },
    {
      "cell_type": "markdown",
      "source": [
        "## FUnctions as First class citizens"
      ],
      "metadata": {
        "id": "3hQ_alop7moM"
      }
    },
    {
      "cell_type": "markdown",
      "source": [
        "python 1st class arguments - store them in variables, return them as functions, store them in various data structures"
      ],
      "metadata": {
        "id": "4DAAIt237ZlV"
      }
    },
    {
      "cell_type": "code",
      "source": [
        "def function_caller(func, *args, **kwargs): # if something is stored in some format of data structure it passes as individual element\n",
        "  print(func) # (1,2,3) its a tuple but when passed -> it gets broken down to individual elements -> 1, 2, 3\n",
        "  print(args)\n",
        "  print(kwargs)\n",
        "  return func(*args, **kwargs)"
      ],
      "metadata": {
        "id": "VFs_kp13q8kF"
      },
      "execution_count": null,
      "outputs": []
    },
    {
      "cell_type": "code",
      "source": [
        "def add(a,b):\n",
        "  return a+b"
      ],
      "metadata": {
        "id": "2mKJHo6h7wwe"
      },
      "execution_count": null,
      "outputs": []
    },
    {
      "cell_type": "code",
      "source": [
        "def pow(base =1, exp=1):\n",
        "  return base ** exp"
      ],
      "metadata": {
        "id": "tyHv5y1Z7wzU"
      },
      "execution_count": null,
      "outputs": []
    },
    {
      "cell_type": "code",
      "source": [
        "result = function_caller(add, 1,2)\n",
        "print(result)"
      ],
      "metadata": {
        "colab": {
          "base_uri": "https://localhost:8080/"
        },
        "id": "W1SJ6fYO7w2s",
        "outputId": "200c80bf-f9e2-4381-81f0-07ad214d0c5d"
      },
      "execution_count": null,
      "outputs": [
        {
          "output_type": "stream",
          "name": "stdout",
          "text": [
            "<function add at 0x7f5715a77e20>\n",
            "(1, 2)\n",
            "{}\n",
            "3\n"
          ]
        }
      ]
    },
    {
      "cell_type": "code",
      "source": [
        "result = function_caller(add, 1,2, 3, 5)\n",
        "print(result)"
      ],
      "metadata": {
        "colab": {
          "base_uri": "https://localhost:8080/",
          "height": 297
        },
        "id": "IbGM2b787w6M",
        "outputId": "b9e45b46-9249-4723-a9f3-42b1ad75901c"
      },
      "execution_count": null,
      "outputs": [
        {
          "output_type": "stream",
          "name": "stdout",
          "text": [
            "<function add at 0x7f5715a77e20>\n",
            "(1, 2, 3, 5)\n",
            "{}\n"
          ]
        },
        {
          "output_type": "error",
          "ename": "TypeError",
          "evalue": "add() takes 2 positional arguments but 4 were given",
          "traceback": [
            "\u001b[0;31m---------------------------------------------------------------------------\u001b[0m",
            "\u001b[0;31mTypeError\u001b[0m                                 Traceback (most recent call last)",
            "\u001b[0;32m<ipython-input-27-34c124363259>\u001b[0m in \u001b[0;36m<cell line: 1>\u001b[0;34m()\u001b[0m\n\u001b[0;32m----> 1\u001b[0;31m \u001b[0mresult\u001b[0m \u001b[0;34m=\u001b[0m \u001b[0mfunction_caller\u001b[0m\u001b[0;34m(\u001b[0m\u001b[0madd\u001b[0m\u001b[0;34m,\u001b[0m \u001b[0;36m1\u001b[0m\u001b[0;34m,\u001b[0m\u001b[0;36m2\u001b[0m\u001b[0;34m,\u001b[0m \u001b[0;36m3\u001b[0m\u001b[0;34m,\u001b[0m \u001b[0;36m5\u001b[0m\u001b[0;34m)\u001b[0m\u001b[0;34m\u001b[0m\u001b[0;34m\u001b[0m\u001b[0m\n\u001b[0m\u001b[1;32m      2\u001b[0m \u001b[0mprint\u001b[0m\u001b[0;34m(\u001b[0m\u001b[0mresult\u001b[0m\u001b[0;34m)\u001b[0m\u001b[0;34m\u001b[0m\u001b[0;34m\u001b[0m\u001b[0m\n",
            "\u001b[0;32m<ipython-input-23-05b7a81d2de0>\u001b[0m in \u001b[0;36mfunction_caller\u001b[0;34m(func, *args, **kwargs)\u001b[0m\n\u001b[1;32m      3\u001b[0m   \u001b[0mprint\u001b[0m\u001b[0;34m(\u001b[0m\u001b[0margs\u001b[0m\u001b[0;34m)\u001b[0m\u001b[0;34m\u001b[0m\u001b[0;34m\u001b[0m\u001b[0m\n\u001b[1;32m      4\u001b[0m   \u001b[0mprint\u001b[0m\u001b[0;34m(\u001b[0m\u001b[0mkwargs\u001b[0m\u001b[0;34m)\u001b[0m\u001b[0;34m\u001b[0m\u001b[0;34m\u001b[0m\u001b[0m\n\u001b[0;32m----> 5\u001b[0;31m   \u001b[0;32mreturn\u001b[0m \u001b[0mfunc\u001b[0m\u001b[0;34m(\u001b[0m\u001b[0;34m*\u001b[0m\u001b[0margs\u001b[0m\u001b[0;34m,\u001b[0m \u001b[0;34m**\u001b[0m\u001b[0mkwargs\u001b[0m\u001b[0;34m)\u001b[0m\u001b[0;34m\u001b[0m\u001b[0;34m\u001b[0m\u001b[0m\n\u001b[0m",
            "\u001b[0;31mTypeError\u001b[0m: add() takes 2 positional arguments but 4 were given"
          ]
        }
      ]
    },
    {
      "cell_type": "code",
      "source": [
        "result = function_caller(pow, base =2, exp = 5)\n",
        "print(result)"
      ],
      "metadata": {
        "id": "uM8MLGZSq8m2",
        "colab": {
          "base_uri": "https://localhost:8080/"
        },
        "outputId": "8a2cde37-af5f-4482-da1a-97fe0d2e6385"
      },
      "execution_count": null,
      "outputs": [
        {
          "output_type": "stream",
          "name": "stdout",
          "text": [
            "<function pow at 0x7f5715a77c70>\n",
            "()\n",
            "{'base': 2, 'exp': 5}\n",
            "32\n"
          ]
        }
      ]
    },
    {
      "cell_type": "code",
      "source": [
        "funcs = [add, pow, add, add]\n",
        "args = [\n",
        "    [(1,2), {}],\n",
        "    [(), {'base':5, 'exp':2}],\n",
        "    [(5,6), {}],\n",
        "    [(3,4), {}]\n",
        "]\n",
        "\n",
        "for func, (args, kwargs) in zip(funcs, args):\n",
        "  result = func(*args, **kwargs)\n",
        "  print(result)"
      ],
      "metadata": {
        "id": "FTSfvdsFq8pZ",
        "colab": {
          "base_uri": "https://localhost:8080/"
        },
        "outputId": "70439061-5878-4f82-ec6c-62a69791133b"
      },
      "execution_count": null,
      "outputs": [
        {
          "output_type": "stream",
          "name": "stdout",
          "text": [
            "3\n",
            "25\n",
            "11\n",
            "7\n"
          ]
        }
      ]
    },
    {
      "cell_type": "markdown",
      "source": [
        "## Closure\n",
        " - a nested function that act as a value from the outside function"
      ],
      "metadata": {
        "id": "ffzBQ0ZB-WVS"
      }
    },
    {
      "cell_type": "code",
      "source": [
        "# function factory\n",
        "\n",
        "def adder(value):\n",
        "  def inner_function(base): # multiple functions\n",
        "    return base + value\n",
        "  return inner_function"
      ],
      "metadata": {
        "id": "9xxBnTIi9QdH"
      },
      "execution_count": null,
      "outputs": []
    },
    {
      "cell_type": "code",
      "source": [
        "adder_5 = adder(5)\n",
        "result = adder_5(10)\n",
        "print(result)"
      ],
      "metadata": {
        "colab": {
          "base_uri": "https://localhost:8080/"
        },
        "id": "jMsutWIH9Qfh",
        "outputId": "00ec9faf-694c-4535-b92b-75c5f9125377"
      },
      "execution_count": null,
      "outputs": [
        {
          "output_type": "stream",
          "name": "stdout",
          "text": [
            "15\n"
          ]
        }
      ]
    },
    {
      "cell_type": "code",
      "source": [
        "adder_5 = adder(5)\n",
        "adder_10 = adder(10)\n",
        "result = adder_5(10)\n",
        "result_2 = adder_5(-7)\n",
        "result_3 = adder_10(-2)\n",
        "print(result, result_2, result_3)"
      ],
      "metadata": {
        "colab": {
          "base_uri": "https://localhost:8080/"
        },
        "id": "fbfbNhYw9QiB",
        "outputId": "0ac06aa6-924a-45ce-d52e-052d0424e2f4"
      },
      "execution_count": null,
      "outputs": [
        {
          "output_type": "stream",
          "name": "stdout",
          "text": [
            "15 -2 8\n"
          ]
        }
      ]
    },
    {
      "cell_type": "markdown",
      "source": [
        "## Decorators\n",
        "- a function that modifies another function\n"
      ],
      "metadata": {
        "id": "IeNCwWpnE_Se"
      }
    },
    {
      "cell_type": "code",
      "source": [
        "def my_custom_function(lst1, lst2, mod=1):\n",
        "  new_lst = []\n",
        "\n",
        "  for lst in [lst1, lst2]:\n",
        "    for value in lst:\n",
        "      if value % mod == 0:\n",
        "        new_lst.append(value)\n",
        "  return new_lst"
      ],
      "metadata": {
        "id": "M91KOgmM9Qky"
      },
      "execution_count": 3,
      "outputs": []
    },
    {
      "cell_type": "code",
      "source": [
        "my_custom_function([1,2,3,4,5], [6,7,8,9,10], mod=2)"
      ],
      "metadata": {
        "id": "k0U4M4_O9Qny",
        "colab": {
          "base_uri": "https://localhost:8080/"
        },
        "outputId": "8478c07d-2cf6-4324-979c-901155217deb"
      },
      "execution_count": 4,
      "outputs": [
        {
          "output_type": "execute_result",
          "data": {
            "text/plain": [
              "[2, 4, 6, 8, 10]"
            ]
          },
          "metadata": {},
          "execution_count": 4
        }
      ]
    },
    {
      "cell_type": "code",
      "source": [
        "def function_printer(func):\n",
        "  def modified_func(*args, **kwargs):\n",
        "    print('function called with', args, 'and', kwargs)\n",
        "\n",
        "    result = func(*args, **kwargs)\n",
        "    print('Result is: ', result)\n",
        "    return result\n",
        "  return modified_func\n"
      ],
      "metadata": {
        "id": "eiGItXSS9Qqt"
      },
      "execution_count": 5,
      "outputs": []
    },
    {
      "cell_type": "code",
      "source": [
        "@function_printer\n",
        "def my_custom_function(lst1, lst2, mod=1):\n",
        "  new_lst = []\n",
        "\n",
        "  for lst in [lst1, lst2]:\n",
        "    for value in lst:\n",
        "      if value % mod == 0:\n",
        "        new_lst.append(value)\n",
        "  return new_lst\n",
        "\n",
        "my_custom_function([1,2,3,4,5], [6,7,8,9,10], mod=2)"
      ],
      "metadata": {
        "id": "On8cp9Fw9QtX",
        "colab": {
          "base_uri": "https://localhost:8080/"
        },
        "outputId": "bbdf6e38-b6f9-441f-caad-be2d13e05177"
      },
      "execution_count": 6,
      "outputs": [
        {
          "output_type": "stream",
          "name": "stdout",
          "text": [
            "function called with ([1, 2, 3, 4, 5], [6, 7, 8, 9, 10]) and {'mod': 2}\n",
            "Result is:  [2, 4, 6, 8, 10]\n"
          ]
        },
        {
          "output_type": "execute_result",
          "data": {
            "text/plain": [
              "[2, 4, 6, 8, 10]"
            ]
          },
          "metadata": {},
          "execution_count": 6
        }
      ]
    },
    {
      "cell_type": "code",
      "source": [
        "# WHATS HAPPENING IS ? decorator is short hand index\n",
        "\n",
        "my_custom_function = function_printer(my_custom_function) # instead of this we are wring @function_printer\n",
        "my_custom_function([1,2,3,4,5], [6,7,8,9,10], mod=2)"
      ],
      "metadata": {
        "id": "GfOD0TaK9QwO",
        "colab": {
          "base_uri": "https://localhost:8080/"
        },
        "outputId": "3d19766a-db91-427a-fce6-ceacfc3a117b"
      },
      "execution_count": 7,
      "outputs": [
        {
          "output_type": "stream",
          "name": "stdout",
          "text": [
            "function called with ([1, 2, 3, 4, 5], [6, 7, 8, 9, 10]) and {'mod': 2}\n",
            "function called with ([1, 2, 3, 4, 5], [6, 7, 8, 9, 10]) and {'mod': 2}\n",
            "Result is:  [2, 4, 6, 8, 10]\n",
            "Result is:  [2, 4, 6, 8, 10]\n"
          ]
        },
        {
          "output_type": "execute_result",
          "data": {
            "text/plain": [
              "[2, 4, 6, 8, 10]"
            ]
          },
          "metadata": {},
          "execution_count": 7
        }
      ]
    },
    {
      "cell_type": "markdown",
      "source": [
        "## Non local keyword"
      ],
      "metadata": {
        "id": "rDjc4FXmoTOp"
      }
    },
    {
      "cell_type": "code",
      "source": [
        "def outer_function():\n",
        "  x = 10\n",
        "\n",
        "  def inner_function():\n",
        "    x = 20\n",
        "    print('Inner x: ', x)\n",
        "  inner_function()\n",
        "  print('Outer x: ', x)\n",
        "\n",
        "outer_function()"
      ],
      "metadata": {
        "id": "OTNmhJO49Qzu",
        "colab": {
          "base_uri": "https://localhost:8080/"
        },
        "outputId": "7dbda507-f469-4525-e1dd-68253f144c82"
      },
      "execution_count": 8,
      "outputs": [
        {
          "output_type": "stream",
          "name": "stdout",
          "text": [
            "Inner x:  20\n",
            "Outer x:  10\n"
          ]
        }
      ]
    },
    {
      "cell_type": "code",
      "source": [
        "def outer_function():\n",
        "  x = 10\n",
        "\n",
        "  def inner_function():\n",
        "    nonlocal x # take the variable x from above and modify it as we can see x was 10 but got modified to 20 when given x = 20\n",
        "    x = 20\n",
        "    print('Inner x: ', x)\n",
        "  inner_function()\n",
        "  print('Outer x: ', x)\n",
        "\n",
        "outer_function()"
      ],
      "metadata": {
        "id": "VzkhUZHkq8sL",
        "colab": {
          "base_uri": "https://localhost:8080/"
        },
        "outputId": "b6697e10-8a0c-48e2-9f24-42a325f8696a"
      },
      "execution_count": 10,
      "outputs": [
        {
          "output_type": "stream",
          "name": "stdout",
          "text": [
            "Inner x:  20\n",
            "Outer x:  20\n"
          ]
        }
      ]
    },
    {
      "cell_type": "code",
      "source": [
        "def outer_function():\n",
        "  x = 10\n",
        "\n",
        "  def inner_function():\n",
        "    nonlocal x # take the variable x from above and modify it as we can see x was 10 but got modified to 20 when given x = 20\n",
        "    x = 20\n",
        "    print('Inner x: ', x)\n",
        "\n",
        "    def inner_inner_function():\n",
        "      nonlocal x\n",
        "      x = 30\n",
        "      print('inner inner x: ', x)\n",
        "\n",
        "    inner_inner_function()\n",
        "\n",
        "  inner_function()\n",
        "  print('Outer x: ', x)\n",
        "\n",
        "outer_function()"
      ],
      "metadata": {
        "id": "H7vp_Mfrq8vx",
        "colab": {
          "base_uri": "https://localhost:8080/"
        },
        "outputId": "c2b40f1b-28d5-4e4f-bff1-fa7e667a6e27"
      },
      "execution_count": 12,
      "outputs": [
        {
          "output_type": "stream",
          "name": "stdout",
          "text": [
            "Inner x:  20\n",
            "inner inner x:  30\n",
            "Outer x:  30\n"
          ]
        }
      ]
    },
    {
      "cell_type": "markdown",
      "source": [
        "## Function annotations\n",
        "  - is a way to define the type of various parameters nad return types for functions\n",
        "\n",
        "  - readablity and documentation"
      ],
      "metadata": {
        "id": "pBdTMY0mp0Pi"
      }
    },
    {
      "cell_type": "code",
      "source": [
        "def greet(name: str) -> str:\n",
        "  return f'Hello, {name}!'\n",
        "\n",
        "def add(x:int, y:int) -> int:\n",
        "  return x+ y"
      ],
      "metadata": {
        "id": "y83p3rb7pXGv"
      },
      "execution_count": 13,
      "outputs": []
    },
    {
      "cell_type": "code",
      "source": [
        "add('hello','hello')"
      ],
      "metadata": {
        "colab": {
          "base_uri": "https://localhost:8080/",
          "height": 36
        },
        "id": "6NQDGqb0p3X1",
        "outputId": "a4005595-dd61-4aa8-ef50-0bf431fdb923"
      },
      "execution_count": 14,
      "outputs": [
        {
          "output_type": "execute_result",
          "data": {
            "text/plain": [
              "'hellohello'"
            ],
            "application/vnd.google.colaboratory.intrinsic+json": {
              "type": "string"
            }
          },
          "metadata": {},
          "execution_count": 14
        }
      ]
    },
    {
      "cell_type": "code",
      "source": [
        "# but when we shift tab it shows int and int when typed add"
      ],
      "metadata": {
        "id": "4aX9TO4vp3ae"
      },
      "execution_count": null,
      "outputs": []
    },
    {
      "cell_type": "code",
      "source": [
        "from typing import List, Tuple, Optional"
      ],
      "metadata": {
        "id": "BYNK1juqp3c8"
      },
      "execution_count": 15,
      "outputs": []
    },
    {
      "cell_type": "code",
      "source": [
        "def process_data(data: List[int]) -> Tuple[int, int]:\n",
        "  return (min(data), max(data))\n",
        "\n",
        "def find_max(data: Optional[list[int]]=None) -> Optional[int]:\n",
        "  if data:\n",
        "    return max(data)\n",
        "  return None"
      ],
      "metadata": {
        "id": "FQ2RQlnzp3fu"
      },
      "execution_count": 16,
      "outputs": []
    },
    {
      "cell_type": "code",
      "source": [],
      "metadata": {
        "id": "xFwqb9njp3i_"
      },
      "execution_count": null,
      "outputs": []
    }
  ]
}