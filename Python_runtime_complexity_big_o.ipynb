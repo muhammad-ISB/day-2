{
  "cells": [
    {
      "cell_type": "code",
      "execution_count": null,
      "metadata": {
        "id": "9nYl3CWkswuG"
      },
      "outputs": [],
      "source": [
        "def retur_first_elements(lst):\n",
        "  return lst[0]\n",
        "\n",
        "# constant runtime complexity"
      ]
    },
    {
      "cell_type": "code",
      "execution_count": null,
      "metadata": {
        "id": "e8B05xWGs_hT"
      },
      "outputs": [],
      "source": [
        "def retur_max_elements(lst):\n",
        "  current_max = lst[0]\n",
        "  for element in lst:\n",
        "    if element > current_max:\n",
        "      current_max = element\n",
        "  return current_max\n",
        "\n",
        "# linear scale runtime\n",
        "# pairs of elements"
      ]
    },
    {
      "cell_type": "code",
      "execution_count": null,
      "metadata": {
        "colab": {
          "base_uri": "https://localhost:8080/"
        },
        "id": "bEPb9T3-s_kN",
        "outputId": "f4d1e8c9-6e73-46b0-dcaf-090a3af4c936"
      },
      "outputs": [
        {
          "name": "stdout",
          "output_type": "stream",
          "text": [
            "Collecting big_o\n",
            "  Downloading big_O-0.11.0.tar.gz (11 kB)\n",
            "  Preparing metadata (setup.py) ... \u001b[?25l\u001b[?25hdone\n",
            "Requirement already satisfied: numpy in /usr/local/lib/python3.10/dist-packages (from big_o) (1.25.2)\n",
            "Building wheels for collected packages: big_o\n",
            "  Building wheel for big_o (setup.py) ... \u001b[?25l\u001b[?25hdone\n",
            "  Created wheel for big_o: filename=big_O-0.11.0-py3-none-any.whl size=14118 sha256=510fa162ed6d5d2f23755c41a66ecf8c46107ea4fc64f38c752e60bceefa44bc\n",
            "  Stored in directory: /root/.cache/pip/wheels/38/29/38/4df65acf36af6a8fc03e1a4c6f4ab63abf476fccaeeed65182\n",
            "Successfully built big_o\n",
            "Installing collected packages: big_o\n",
            "Successfully installed big_o-0.11.0\n"
          ]
        }
      ],
      "source": [
        "# package called BIG_O\n",
        "\n",
        "!pip install big_o"
      ]
    },
    {
      "cell_type": "code",
      "execution_count": null,
      "metadata": {
        "colab": {
          "base_uri": "https://localhost:8080/"
        },
        "id": "7m5EJpOls_m8",
        "outputId": "79ad49a2-d0d0-45e4-e55c-6103bbf92479"
      },
      "outputs": [
        {
          "name": "stdout",
          "output_type": "stream",
          "text": [
            "12\n",
            "Linear: time = -0.00056 + 1.7E-07*n (sec)\n",
            "{<big_o.complexities.Constant object at 0x782a357481c0>: 0.0003104458452312266, <big_o.complexities.Linear object at 0x782a357486d0>: 3.053299107863562e-06, <big_o.complexities.Quadratic object at 0x782a5b1e30a0>: 2.5474322595538905e-05, <big_o.complexities.Cubic object at 0x782a17242e00>: 5.9541727319668866e-05, <big_o.complexities.Polynomial object at 0x782a1704ee90>: 6.71527897878692e-06, <big_o.complexities.Logarithmic object at 0x782a1704ca30>: 0.00014308935041868268, <big_o.complexities.Linearithmic object at 0x782a1704efe0>: 3.0351429008117233e-06, <big_o.complexities.Exponential object at 0x782a1704c310>: 0.0011307123512733694}\n"
          ]
        }
      ],
      "source": [
        "import big_o\n",
        "\n",
        "print(max([1, 5, 4, 7, 12, 0, 10])) # linear scale\n",
        "\n",
        "positive_int_gen = lambda n: big_o.datagen.integers(n, min_=0, max_=100000)\n",
        "best, others = big_o.big_o(max, positive_int_gen, n_repeats = 5)\n",
        "\n",
        "print(best)"
      ]
    },
    {
      "cell_type": "code",
      "execution_count": null,
      "metadata": {
        "colab": {
          "background_save": true
        },
        "id": "oIZvwSd1x8Ae",
        "outputId": "d66e5070-0cc4-41f5-fa70-75dcf7929f00"
      },
      "outputs": [
        {
          "name": "stdout",
          "output_type": "stream",
          "text": [
            "Linear: time = 10 + 1.1E-07*n (sec)\n"
          ]
        }
      ],
      "source": [
        "import time\n",
        "import big_o\n",
        "\n",
        "# O(2 + something * n but linear)\n",
        "def find_max_delayed(lst):\n",
        "  time.sleep(2)\n",
        "  return max(lst)\n",
        "\n",
        "positive_int_gen = lambda n: big_o.datagen.integers(n, min_=0, max_=1000)\n",
        "best, others = big_o.big_o(find_max_delayed, positive_int_gen, n_repeats = 5)\n",
        "\n",
        "print(best) # 10 = 2 * 5"
      ]
    },
    {
      "cell_type": "code",
      "execution_count": null,
      "metadata": {
        "id": "4GydgJjrx8DQ"
      },
      "outputs": [],
      "source": [
        "def bubble_sort(arr):\n",
        "    n = len(arr)\n",
        "    for i in range(n):\n",
        "        for j in range(0, n - i - 1):\n",
        "            if arr[j] > arr[j + 1]:\n",
        "                arr[j], arr[j + 1] = arr[j + 1], arr[j]\n",
        "    return arr\n"
      ]
    },
    {
      "cell_type": "code",
      "execution_count": null,
      "metadata": {
        "colab": {
          "base_uri": "https://localhost:8080/"
        },
        "id": "GEuK0Jsxx8GK",
        "outputId": "25e72cc3-5ef2-4e30-d619-03b3c149530d"
      },
      "outputs": [
        {
          "name": "stdout",
          "output_type": "stream",
          "text": [
            "Sorted array: [11, 12, 22, 25, 34, 64, 90]\n"
          ]
        }
      ],
      "source": [
        "arr = [64, 34, 25, 12, 22, 11, 90]\n",
        "sorted_arr = bubble_sort(arr)\n",
        "print(\"Sorted array:\", sorted_arr)\n"
      ]
    },
    {
      "cell_type": "code",
      "execution_count": null,
      "metadata": {
        "id": "Whc1be-ax8Iu"
      },
      "outputs": [],
      "source": [
        "def merge_sort(arr):\n",
        "    if len(arr) <= 1:\n",
        "        return arr\n",
        "\n",
        "    mid = len(arr) // 2\n",
        "    left_half = arr[:mid]\n",
        "    right_half = arr[mid:]\n",
        "\n",
        "    left_half = merge_sort(left_half)\n",
        "    right_half = merge_sort(right_half)\n",
        "\n",
        "    return merge(left_half, right_half)"
      ]
    },
    {
      "cell_type": "code",
      "execution_count": null,
      "metadata": {
        "id": "HJkJeqgjx8MK"
      },
      "outputs": [],
      "source": [
        "def merge(left, right):\n",
        "    result = []\n",
        "    i = j = 0\n",
        "\n",
        "    while i < len(left) and j < len(right):\n",
        "        if left[i] <= right[j]:\n",
        "            result.append(left[i])\n",
        "            i += 1\n",
        "        else:\n",
        "            result.append(right[j])\n",
        "            j += 1\n",
        "\n",
        "    result.extend(left[i:])\n",
        "    result.extend(right[j:])\n",
        "\n",
        "    return result"
      ]
    },
    {
      "cell_type": "code",
      "execution_count": null,
      "metadata": {
        "colab": {
          "base_uri": "https://localhost:8080/"
        },
        "id": "SHuTmy7Gs_pt",
        "outputId": "73f2d03b-5b0f-4da2-e94f-9014beae2884"
      },
      "outputs": [
        {
          "name": "stdout",
          "output_type": "stream",
          "text": [
            "Linearithmic: time = -0.2 + 3.4E-06*n*log(n) (sec)\n"
          ]
        }
      ],
      "source": [
        "# merge sort time complexity\n",
        "\n",
        "best, others = big_o.big_o(merge_sort, positive_int_gen, n_repeats = 5)\n",
        "\n",
        "print(best)"
      ]
    },
    {
      "cell_type": "code",
      "execution_count": null,
      "metadata": {
        "colab": {
          "background_save": true
        },
        "id": "XqAxpS5cs_sj",
        "outputId": "ea8bbda5-ce6d-45b6-de1b-d7dea7d3825b"
      },
      "outputs": [
        {
          "name": "stdout",
          "output_type": "stream",
          "text": [
            "Quadratic: time = -0.42 + 1.2E-07*n^2 (sec)\n"
          ]
        }
      ],
      "source": [
        "# bubble sort time complexity\n",
        "\n",
        "best, others = big_o.big_o(bubble_sort, positive_int_gen, n_repeats = 1)\n",
        "\n",
        "print(best)"
      ]
    },
    {
      "cell_type": "code",
      "execution_count": 1,
      "metadata": {
        "id": "fqdDkChu-3cv"
      },
      "outputs": [],
      "source": [
        "def fibonacci(n):\n",
        "    if n <= 0:\n",
        "      return n\n",
        "    elif n == 1:\n",
        "      return 1\n",
        "    else:\n",
        "      return fibonacci(n - 1) + fibonacci(n - 2)"
      ]
    },
    {
      "cell_type": "code",
      "execution_count": null,
      "metadata": {
        "id": "GMV5_WN--3fT"
      },
      "outputs": [],
      "source": [
        "# fibonacci sequence run time complexity\n",
        "\n",
        "number_generator = big_o.datagen.n\n",
        "bset, others = big_o.big_o(fibonacci, number_generator, n_repeats=5, min_n= 1, max_n = 10)\n",
        "\n",
        "print(bset) # exponential for sure"
      ]
    },
    {
      "cell_type": "code",
      "execution_count": null,
      "metadata": {
        "id": "cWLM_IrF_aav"
      },
      "outputs": [],
      "source": [
        "def square(n):\n",
        "  return n ** 2\n",
        "\n",
        "number_generator = big_o.datagen.n\n",
        "bset, others = big_o.big_o(square, number_generator,n_repeats=5)\n",
        "\n",
        "print(bset)"
      ]
    },
    {
      "cell_type": "code",
      "execution_count": null,
      "metadata": {
        "id": "dRjGzs34_ado"
      },
      "outputs": [],
      "source": []
    },
    {
      "cell_type": "code",
      "execution_count": null,
      "metadata": {
        "id": "t9RduG6u_ahK"
      },
      "outputs": [],
      "source": []
    },
    {
      "cell_type": "code",
      "execution_count": null,
      "metadata": {
        "id": "s93dtIDz_RKv"
      },
      "outputs": [],
      "source": []
    },
    {
      "cell_type": "code",
      "execution_count": null,
      "metadata": {
        "id": "o8bPpSRO_RNO"
      },
      "outputs": [],
      "source": []
    },
    {
      "cell_type": "code",
      "execution_count": null,
      "metadata": {
        "id": "a7UAWxYn_RQz"
      },
      "outputs": [],
      "source": []
    },
    {
      "cell_type": "code",
      "execution_count": null,
      "metadata": {
        "id": "hk2HkirC-3i1"
      },
      "outputs": [],
      "source": []
    }
  ],
  "metadata": {
    "colab": {
      "provenance": []
    },
    "kernelspec": {
      "display_name": "Python 3",
      "name": "python3"
    },
    "language_info": {
      "name": "python"
    }
  },
  "nbformat": 4,
  "nbformat_minor": 0
}